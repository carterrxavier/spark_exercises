{
 "cells": [
  {
   "cell_type": "code",
   "execution_count": 389,
   "id": "8da9a8eb-baaa-4df5-8be7-c86fbe389f85",
   "metadata": {},
   "outputs": [],
   "source": [
    "from pyspark.sql import SparkSession\n",
    "from pyspark.sql.functions import *\n",
    "import matplotlib.pyplot as plt\n",
    "import seaborn as sns\n",
    "spark = SparkSession.builder.getOrCreate()\n",
    "import pandas as pd\n",
    "import numpy as np\n"
   ]
  },
  {
   "cell_type": "code",
   "execution_count": 2,
   "id": "362f1da3-a69d-4056-ba11-6e33f609fad8",
   "metadata": {},
   "outputs": [],
   "source": [
    "# Read in CSV file \n",
    "source = (spark.read.csv(\"source.csv\",\n",
    "                     sep=\",\",\n",
    "                     header=True,\n",
    "                     inferSchema=True)\n",
    "     )\n",
    "dept = spark.read.csv(\"dept.csv\",\n",
    "                     sep=\",\",\n",
    "                     header=True,\n",
    "                     inferSchema=True)\n",
    "case = spark.read.csv(\"case.csv\",\n",
    "                     sep=\",\",\n",
    "                     header=True,\n",
    "                     inferSchema=True)"
   ]
  },
  {
   "cell_type": "code",
   "execution_count": null,
   "id": "d96904ae-56cb-4117-baab-f26c27932533",
   "metadata": {},
   "outputs": [],
   "source": []
  },
  {
   "cell_type": "code",
   "execution_count": 3,
   "id": "a047284c-f006-4260-b23e-caf6b049153b",
   "metadata": {},
   "outputs": [
    {
     "data": {
      "text/plain": [
       "(DataFrame[source_id: string, source_username: string],\n",
       " DataFrame[dept_division: string, dept_name: string, standardized_dept_name: string, dept_subject_to_SLA: string],\n",
       " DataFrame[case_id: int, case_opened_date: string, case_closed_date: string, SLA_due_date: string, case_late: string, num_days_late: double, case_closed: string, dept_division: string, service_request_type: string, SLA_days: double, case_status: string, source_id: string, request_address: string, council_district: int])"
      ]
     },
     "execution_count": 3,
     "metadata": {},
     "output_type": "execute_result"
    }
   ],
   "source": [
    "source, dept, case"
   ]
  },
  {
   "cell_type": "code",
   "execution_count": 4,
   "id": "2a760b12-c8c9-46fa-895f-3da1ac698f10",
   "metadata": {},
   "outputs": [
    {
     "name": "stdout",
     "output_type": "stream",
     "text": [
      "-RECORD 0---------------------------\n",
      " source_id       | 100137           \n",
      " source_username | Merlene Blodgett \n",
      "-RECORD 1---------------------------\n",
      " source_id       | 103582           \n",
      " source_username | Carmen Cura      \n",
      "-RECORD 2---------------------------\n",
      " source_id       | 106463           \n",
      " source_username | Richard Sanchez  \n",
      "only showing top 3 rows\n",
      "\n"
     ]
    }
   ],
   "source": [
    "source.show(3, truncate = False, vertical = True)"
   ]
  },
  {
   "cell_type": "code",
   "execution_count": 5,
   "id": "4eea214e-2a6a-4e56-9960-99c04672081f",
   "metadata": {},
   "outputs": [],
   "source": [
    "df = case"
   ]
  },
  {
   "cell_type": "code",
   "execution_count": 6,
   "id": "93f50599-a2bc-4f20-ac70-fb505219af06",
   "metadata": {},
   "outputs": [
    {
     "name": "stdout",
     "output_type": "stream",
     "text": [
      "-RECORD 0-----------------------------------------------------\n",
      " case_id              | 1014127332                            \n",
      " case_opened_date     | 1/1/18 0:42                           \n",
      " case_closed_date     | 1/1/18 12:29                          \n",
      " SLA_due_date         | 9/26/20 0:42                          \n",
      " case_late            | NO                                    \n",
      " num_days_late        | -998.5087616000001                    \n",
      " case_closed          | YES                                   \n",
      " dept_division        | Field Operations                      \n",
      " service_request_type | Stray Animal                          \n",
      " SLA_days             | 999.0                                 \n",
      " case_status          | Closed                                \n",
      " source_id            | svcCRMLS                              \n",
      " request_address      | 2315  EL PASO ST, San Antonio, 78207  \n",
      " council_district     | 5                                     \n",
      "-RECORD 1-----------------------------------------------------\n",
      " case_id              | 1014127333                            \n",
      " case_opened_date     | 1/1/18 0:46                           \n",
      " case_closed_date     | 1/3/18 8:11                           \n",
      " SLA_due_date         | 1/5/18 8:30                           \n",
      " case_late            | NO                                    \n",
      " num_days_late        | -2.0126041669999997                   \n",
      " case_closed          | YES                                   \n",
      " dept_division        | Storm Water                           \n",
      " service_request_type | Removal Of Obstruction                \n",
      " SLA_days             | 4.322222222                           \n",
      " case_status          | Closed                                \n",
      " source_id            | svcCRMSS                              \n",
      " request_address      | 2215  GOLIAD RD, San Antonio, 78223   \n",
      " council_district     | 3                                     \n",
      "-RECORD 2-----------------------------------------------------\n",
      " case_id              | 1014127334                            \n",
      " case_opened_date     | 1/1/18 0:48                           \n",
      " case_closed_date     | 1/2/18 7:57                           \n",
      " SLA_due_date         | 1/5/18 8:30                           \n",
      " case_late            | NO                                    \n",
      " num_days_late        | -3.022337963                          \n",
      " case_closed          | YES                                   \n",
      " dept_division        | Storm Water                           \n",
      " service_request_type | Removal Of Obstruction                \n",
      " SLA_days             | 4.320729167                           \n",
      " case_status          | Closed                                \n",
      " source_id            | svcCRMSS                              \n",
      " request_address      | 102  PALFREY ST W, San Antonio, 78223 \n",
      " council_district     | 3                                     \n",
      "only showing top 3 rows\n",
      "\n"
     ]
    }
   ],
   "source": [
    "df.show(3, truncate = False, vertical = True)"
   ]
  },
  {
   "cell_type": "code",
   "execution_count": 7,
   "id": "d5751e02-a0f6-4244-a023-ff0bda2ceed3",
   "metadata": {},
   "outputs": [
    {
     "data": {
      "text/plain": [
       "[('case_id', 'int'),\n",
       " ('case_opened_date', 'string'),\n",
       " ('case_closed_date', 'string'),\n",
       " ('SLA_due_date', 'string'),\n",
       " ('case_late', 'string'),\n",
       " ('num_days_late', 'double'),\n",
       " ('case_closed', 'string'),\n",
       " ('dept_division', 'string'),\n",
       " ('service_request_type', 'string'),\n",
       " ('SLA_days', 'double'),\n",
       " ('case_status', 'string'),\n",
       " ('source_id', 'string'),\n",
       " ('request_address', 'string'),\n",
       " ('council_district', 'int')]"
      ]
     },
     "execution_count": 7,
     "metadata": {},
     "output_type": "execute_result"
    }
   ],
   "source": [
    "df.dtypes"
   ]
  },
  {
   "cell_type": "code",
   "execution_count": 8,
   "id": "5b92e22c-bb58-4f5c-b117-6b8ba8265dfc",
   "metadata": {},
   "outputs": [],
   "source": [
    "#rename SLA Duedate to due date\n",
    "df = df.withColumnRenamed('SLA_due_date', 'case_due_date')"
   ]
  },
  {
   "cell_type": "code",
   "execution_count": 9,
   "id": "e952ca26-7d91-43b5-8c9f-0a599faa924c",
   "metadata": {},
   "outputs": [
    {
     "name": "stdout",
     "output_type": "stream",
     "text": [
      "+-----------+---------+\n",
      "|case_closed|case_late|\n",
      "+-----------+---------+\n",
      "|        YES|       NO|\n",
      "|        YES|       NO|\n",
      "|        YES|       NO|\n",
      "|        YES|       NO|\n",
      "|        YES|      YES|\n",
      "+-----------+---------+\n",
      "only showing top 5 rows\n",
      "\n"
     ]
    }
   ],
   "source": [
    "#correct datatypes\n",
    "df.select(\"case_closed\", \"case_late\").show(5)"
   ]
  },
  {
   "cell_type": "code",
   "execution_count": 10,
   "id": "605fe63f-691e-4391-9443-999b638069b0",
   "metadata": {},
   "outputs": [],
   "source": [
    "# change to boolean values \n",
    "df = df.withColumn('case_closed', expr('case_closed == \"YES\"'))\\\n",
    ".withColumn('case_late', expr('case_late == \"YES\"'))"
   ]
  },
  {
   "cell_type": "code",
   "execution_count": 11,
   "id": "96ec70e7-2629-4641-868d-ab3f909d1a5f",
   "metadata": {},
   "outputs": [
    {
     "name": "stdout",
     "output_type": "stream",
     "text": [
      "+-----------+---------+\n",
      "|case_closed|case_late|\n",
      "+-----------+---------+\n",
      "|       true|    false|\n",
      "|       true|    false|\n",
      "|       true|    false|\n",
      "|       true|    false|\n",
      "|       true|     true|\n",
      "+-----------+---------+\n",
      "only showing top 5 rows\n",
      "\n"
     ]
    }
   ],
   "source": [
    "df.select(\"case_closed\", \"case_late\").show(5)"
   ]
  },
  {
   "cell_type": "code",
   "execution_count": 12,
   "id": "8fec7cbc-f4af-45b4-b250-85372c85ffc5",
   "metadata": {},
   "outputs": [
    {
     "name": "stdout",
     "output_type": "stream",
     "text": [
      "+----------------+\n",
      "|council_district|\n",
      "+----------------+\n",
      "|               5|\n",
      "|               3|\n",
      "|               3|\n",
      "|               3|\n",
      "+----------------+\n",
      "only showing top 4 rows\n",
      "\n"
     ]
    }
   ],
   "source": [
    "#set district to string \n",
    "df.select('council_district').show(4)"
   ]
  },
  {
   "cell_type": "code",
   "execution_count": 13,
   "id": "540f026f-a10f-4513-9120-0f5760c63685",
   "metadata": {},
   "outputs": [],
   "source": [
    "# council_district as a string instead of int\n",
    "df = df.withColumn('council_district', col('council_district').cast('string'))"
   ]
  },
  {
   "cell_type": "code",
   "execution_count": 14,
   "id": "6b83bb7b-3e6e-431a-801c-c5c998a9ce84",
   "metadata": {},
   "outputs": [],
   "source": [
    "#format dates to_timestamp, fmt\n",
    "\n",
    "fmt = \"M/d/yy H:mm\"\n",
    "\n",
    "df = df.withColumn('case_opened_date', to_timestamp('case_opened_date', fmt))\\\n",
    ".withColumn('case_closed_date', to_timestamp('case_closed_date', fmt))\\\n",
    ".withColumn('case_due_date', to_timestamp('case_due_date', fmt))\n"
   ]
  },
  {
   "cell_type": "code",
   "execution_count": 15,
   "id": "efa08c19-bd58-4393-98e3-5783697cf2e7",
   "metadata": {},
   "outputs": [
    {
     "name": "stdout",
     "output_type": "stream",
     "text": [
      "+-------------------------------------+\n",
      "|request_address                      |\n",
      "+-------------------------------------+\n",
      "|2315  el paso st, san antonio, 78207 |\n",
      "|2215  goliad rd, san antonio, 78223  |\n",
      "|102  palfrey st w, san antonio, 78223|\n",
      "|114  la garde st, san antonio, 78223 |\n",
      "|734  clearview dr, san antonio, 78228|\n",
      "+-------------------------------------+\n",
      "only showing top 5 rows\n",
      "\n"
     ]
    }
   ],
   "source": [
    "#standardize address\n",
    "df = df.withColumn('request_address', trim(lower(df.request_address)))\n",
    "\n",
    "df.select('request_address').show(5, False)"
   ]
  },
  {
   "cell_type": "code",
   "execution_count": 16,
   "id": "97d3c0df-fd0f-47d8-96aa-6593c52dd55a",
   "metadata": {},
   "outputs": [],
   "source": [
    "#padd 0's for council district\n",
    "df = df.withColumn('council_district', format_string('%03d', col('council_district').cast('int')))"
   ]
  },
  {
   "cell_type": "code",
   "execution_count": 17,
   "id": "18e3b05f-774c-431c-9273-ca31bfef682d",
   "metadata": {},
   "outputs": [
    {
     "name": "stdout",
     "output_type": "stream",
     "text": [
      "+-------+\n",
      "|zipcode|\n",
      "+-------+\n",
      "|  78207|\n",
      "|  78223|\n",
      "|  78223|\n",
      "|  78223|\n",
      "|  78228|\n",
      "+-------+\n",
      "only showing top 5 rows\n",
      "\n"
     ]
    }
   ],
   "source": [
    "#add zipcode\n",
    "\n",
    "df = df.withColumn('zipcode', regexp_extract('request_address', r\"(\\d+$)\", 1))\n",
    "\n",
    "df.select('zipcode').show(5)"
   ]
  },
  {
   "cell_type": "code",
   "execution_count": 18,
   "id": "58e5ca0d-9b3a-496d-9406-5606c73e1c70",
   "metadata": {},
   "outputs": [],
   "source": [
    "#create three new columns 'case_age', 'days_to_closed', 'case_lifetime'\n",
    "\n",
    "df = (\n",
    "    df.withColumn(\n",
    "        \"case_age\", datediff(current_timestamp(), \"case_opened_date\")\n",
    "    )\n",
    "    .withColumn(\n",
    "        \"days_to_closed\", datediff(\"case_closed_date\", \"case_opened_date\")\n",
    "    )\n",
    "    .withColumn(\n",
    "        \"case_lifetime\",\n",
    "        when(expr(\"! case_closed\"), col(\"case_age\")).otherwise(\n",
    "            col(\"days_to_closed\")\n",
    "        ),\n",
    "    )\n",
    ")\n"
   ]
  },
  {
   "cell_type": "code",
   "execution_count": 19,
   "id": "05bd4729-6916-4058-acee-741788bdcdea",
   "metadata": {},
   "outputs": [
    {
     "name": "stdout",
     "output_type": "stream",
     "text": [
      "+-------------+\n",
      "|case_lifetime|\n",
      "+-------------+\n",
      "|            0|\n",
      "|            2|\n",
      "|            1|\n",
      "+-------------+\n",
      "only showing top 3 rows\n",
      "\n"
     ]
    }
   ],
   "source": [
    "df.select(expr('CASE WHEN case_closed == False THEN case_age ELSE days_to_closed END').alias('case_lifetime')).show(3)"
   ]
  },
  {
   "cell_type": "code",
   "execution_count": 20,
   "id": "dcd63f0f-2127-4e88-84fb-e962e8c84e57",
   "metadata": {},
   "outputs": [],
   "source": [
    "# join the df and dept dataframe using 'dept_division' as common key\n",
    "# drop columns as needed (keep standardized_dept_name)\n",
    "# convert dept_subject_to_SLA to boolean\n",
    "\n",
    "df = (\n",
    "    df\n",
    "    # left join on dept_division\n",
    "    .join(dept, \"dept_division\", \"left\")\n",
    "    # drop all the columns except for standardized name, as it has much fewer unique values\n",
    "    .drop(dept.dept_division)\n",
    "    .drop(dept.dept_name)\n",
    "    .drop(df.dept_division)\n",
    "    .withColumnRenamed(\"standardized_dept_name\", \"department\")\n",
    "    # convert to a boolean\n",
    "    .withColumn(\"dept_subject_to_SLA\", col(\"dept_subject_to_SLA\") == \"YES\")\n",
    ")"
   ]
  },
  {
   "cell_type": "code",
   "execution_count": null,
   "id": "3ae464d2-f081-4eec-874d-2cb433a4b9a1",
   "metadata": {},
   "outputs": [],
   "source": []
  },
  {
   "cell_type": "code",
   "execution_count": 21,
   "id": "88e8f99b-9668-434f-9c30-97d98c7ced61",
   "metadata": {},
   "outputs": [],
   "source": [
    "#1. How old is the latest (in terms of days past SLA) \n",
    "#currently open issue? How long has the oldest (in terms of days since opened) currently opened issue been open?"
   ]
  },
  {
   "cell_type": "code",
   "execution_count": 22,
   "id": "27b26bff-9078-4b13-9e58-7a2e351871b4",
   "metadata": {},
   "outputs": [
    {
     "name": "stdout",
     "output_type": "stream",
     "text": [
      "-RECORD 0--------------------------------------------------------\n",
      " case_id              | 1013896575                               \n",
      " case_opened_date     | 2017-09-22 08:27:00                      \n",
      " case_closed_date     | null                                     \n",
      " case_due_date        | 2021-08-11 08:30:00                      \n",
      " case_late            | false                                    \n",
      " num_days_late        | -1318.354167                             \n",
      " case_closed          | false                                    \n",
      " service_request_type | Signal Timing Modification By Engineer   \n",
      " SLA_days             | 1419.00191                               \n",
      " case_status          | Open                                     \n",
      " source_id            | CRM_Listener                             \n",
      " request_address      | 4200  harry wurzbach, san antonio, 78209 \n",
      " council_district     | 010                                      \n",
      " zipcode              | 78209                                    \n",
      " case_age             | 1417                                     \n",
      " days_to_closed       | null                                     \n",
      " case_lifetime        | 1417                                     \n",
      " department           | Trans & Cap Improvements                 \n",
      " dept_subject_to_SLA  | true                                     \n",
      "only showing top 1 row\n",
      "\n"
     ]
    }
   ],
   "source": [
    "df.where(df.case_status == 'Open').orderBy(desc(df.SLA_days)).show(1, False, True)"
   ]
  },
  {
   "cell_type": "code",
   "execution_count": 23,
   "id": "49eb7a53-6e42-4045-894a-ce3e77550401",
   "metadata": {},
   "outputs": [],
   "source": [
    "#2 How many Stray Animal cases are there?"
   ]
  },
  {
   "cell_type": "code",
   "execution_count": 24,
   "id": "039296fb-e3cd-46b4-a01c-92007135e5e9",
   "metadata": {},
   "outputs": [
    {
     "data": {
      "text/plain": [
       "26760"
      ]
     },
     "execution_count": 24,
     "metadata": {},
     "output_type": "execute_result"
    }
   ],
   "source": [
    "df.where(df.service_request_type.contains('Stray Animal')).count()"
   ]
  },
  {
   "cell_type": "code",
   "execution_count": 25,
   "id": "91a468ad-4ef2-4de7-a8c5-cf3b4fb8316e",
   "metadata": {},
   "outputs": [],
   "source": [
    "#3 How many service requests that are assigned to the Field Operations department\n",
    "#(dept_division) are not classified as \"Officer Standby\" request type (service_request_type)?"
   ]
  },
  {
   "cell_type": "code",
   "execution_count": 26,
   "id": "74a81c7a-3a5f-4c9b-81c6-e28116a94da5",
   "metadata": {},
   "outputs": [
    {
     "data": {
      "text/plain": [
       "0"
      ]
     },
     "execution_count": 26,
     "metadata": {},
     "output_type": "execute_result"
    }
   ],
   "source": [
    "df.filter((df.department == 'Field Operations') & (df.service_request_type != 'Officer Standby' )).count()"
   ]
  },
  {
   "cell_type": "code",
   "execution_count": 27,
   "id": "25db75b1-3c84-435f-9cd9-ee4d2e719449",
   "metadata": {},
   "outputs": [],
   "source": [
    "#4 Convert the council_district column to a string column.\n",
    "df = df.withColumn('council_district', col('council_district').cast('string'))"
   ]
  },
  {
   "cell_type": "code",
   "execution_count": 28,
   "id": "2d2b1140-dbc4-4c04-b9ac-754f6aa26140",
   "metadata": {},
   "outputs": [],
   "source": [
    "#5 Extract the year from the case_closed_date column.\n",
    "df = df.withColumn('case_closed_year', year(col('case_closed_date')))"
   ]
  },
  {
   "cell_type": "code",
   "execution_count": 29,
   "id": "94bdf2cc-55e5-4e56-b55e-a68e849af87d",
   "metadata": {},
   "outputs": [
    {
     "name": "stdout",
     "output_type": "stream",
     "text": [
      "-RECORD 0----------------------------------------------------\n",
      " case_id              | 1014127332                           \n",
      " case_opened_date     | 2018-01-01 00:42:00                  \n",
      " case_closed_date     | 2018-01-01 12:29:00                  \n",
      " case_due_date        | 2020-09-26 00:42:00                  \n",
      " case_late            | false                                \n",
      " num_days_late        | -998.5087616000001                   \n",
      " case_closed          | true                                 \n",
      " service_request_type | Stray Animal                         \n",
      " SLA_days             | 999.0                                \n",
      " case_status          | Closed                               \n",
      " source_id            | svcCRMLS                             \n",
      " request_address      | 2315  el paso st, san antonio, 78207 \n",
      " council_district     | 005                                  \n",
      " zipcode              | 78207                                \n",
      " case_age             | 1316                                 \n",
      " days_to_closed       | 0                                    \n",
      " case_lifetime        | 0                                    \n",
      " department           | Animal Care Services                 \n",
      " dept_subject_to_SLA  | true                                 \n",
      " case_closed_year     | 2018                                 \n",
      "only showing top 1 row\n",
      "\n"
     ]
    }
   ],
   "source": [
    "df.show(1,False, True)"
   ]
  },
  {
   "cell_type": "code",
   "execution_count": 30,
   "id": "f0c5496f-e513-4a23-820a-ec4e9b7c10ae",
   "metadata": {},
   "outputs": [],
   "source": [
    "#6 Convert num_days_late from days to hours in new columns num_hours_late\n",
    "df = df.withColumn('num_hours_late', (col('num_days_late') * 24))"
   ]
  },
  {
   "cell_type": "raw",
   "id": "23cfe8d7-c484-428a-ab8b-e76fb52b6d0b",
   "metadata": {},
   "source": [
    "#7 Done in prep\n",
    "'''\n",
    "df = (\n",
    "    df\n",
    "    # left join on dept_division\n",
    "    .join(dept, \"dept_division\", \"left\")\n",
    "    # drop all the columns except for standardized name, as it has much fewer unique values\n",
    "    .drop(dept.dept_division)\n",
    "    .drop(dept.dept_name)\n",
    "    .withColumnRenamed(\"standardized_dept_name\", \"department\")\n",
    "    # convert to a boolean\n",
    "    .withColumn(\"dept_subject_to_SLA\", col(\"dept_subject_to_SLA\") == \"YES\")\n",
    ")\n",
    "'''"
   ]
  },
  {
   "cell_type": "code",
   "execution_count": 31,
   "id": "82758b6c-1cfb-417e-b23f-dd7c78b0aba6",
   "metadata": {},
   "outputs": [],
   "source": [
    "#8 Are there any cases that do not have a request source\n",
    "value_counts = df.groupBy(col(\"source_id\")).count().orderBy(desc(col('count')))"
   ]
  },
  {
   "cell_type": "code",
   "execution_count": 32,
   "id": "1f54beac-8f11-4264-a67d-0355bb12391d",
   "metadata": {},
   "outputs": [
    {
     "name": "stdout",
     "output_type": "stream",
     "text": [
      "+------------+------+\n",
      "|   source_id| count|\n",
      "+------------+------+\n",
      "|CRM_Listener|195416|\n",
      "|    svcCRMSS|113585|\n",
      "|     me05816| 19840|\n",
      "|     NO10960| 19832|\n",
      "|     mt13131| 19570|\n",
      "|      139344| 19238|\n",
      "|      138793| 18735|\n",
      "|    svcCRMLS| 18445|\n",
      "|     DS15677| 18103|\n",
      "|     gp20685| 17556|\n",
      "|      140508| 17506|\n",
      "|      139342| 17492|\n",
      "|     ns16326| 17234|\n",
      "|      138810| 16173|\n",
      "|     mp21218| 15817|\n",
      "|     mc21309| 15747|\n",
      "|     ss21394| 15607|\n",
      "|     jw10936| 15088|\n",
      "|     yc16753| 15080|\n",
      "|      139345| 14984|\n",
      "+------------+------+\n",
      "only showing top 20 rows\n",
      "\n"
     ]
    }
   ],
   "source": [
    "#Value counts does not mention null or blank anywhere\n",
    "value_counts.show(20)"
   ]
  },
  {
   "cell_type": "code",
   "execution_count": 33,
   "id": "24aba539-8510-441f-b97c-e590b1d7e501",
   "metadata": {},
   "outputs": [],
   "source": [
    "#9 What are the top 10 service request types in terms of number of requests?\n",
    "value_counts = df.groupBy(col(\"service_request_type\")).count().orderBy(desc(col('count')))"
   ]
  },
  {
   "cell_type": "code",
   "execution_count": 34,
   "id": "c7650149-a9b9-4b29-94c7-326b48c26d61",
   "metadata": {},
   "outputs": [
    {
     "name": "stdout",
     "output_type": "stream",
     "text": [
      "+--------------------+-----+\n",
      "|service_request_type|count|\n",
      "+--------------------+-----+\n",
      "|           No Pickup|86855|\n",
      "|Overgrown Yard/Trash|65895|\n",
      "|        Bandit Signs|32910|\n",
      "|        Damaged Cart|30338|\n",
      "|Front Or Side Yar...|28794|\n",
      "|        Stray Animal|26760|\n",
      "|Aggressive Animal...|24882|\n",
      "|Cart Exchange Req...|22024|\n",
      "|Junk Vehicle On P...|21473|\n",
      "|     Pot Hole Repair|20616|\n",
      "+--------------------+-----+\n",
      "only showing top 10 rows\n",
      "\n"
     ]
    }
   ],
   "source": [
    "value_counts.show(10)"
   ]
  },
  {
   "cell_type": "code",
   "execution_count": 35,
   "id": "132b43eb-8092-4565-8025-158e55ec886c",
   "metadata": {},
   "outputs": [
    {
     "name": "stdout",
     "output_type": "stream",
     "text": [
      "+--------------------------------------+------------------+\n",
      "|service_request_type                  |avg(num_days_late)|\n",
      "+--------------------------------------+------------------+\n",
      "|Zoning: Recycle Yard                  |210.89201994318182|\n",
      "|Zoning: Junk Yards                    |200.20517608494276|\n",
      "|Structure/Housing Maintenance         |190.20707698509807|\n",
      "|Donation Container Enforcement        |171.09115313942615|\n",
      "|Storage of Used Mattress              |163.96812829714287|\n",
      "|Labeling for Used Mattress            |162.43032902285717|\n",
      "|Record Keeping of Used Mattresses     |153.99724039428568|\n",
      "|Signage Requied for Sale of Used Mattr|151.63868055333333|\n",
      "|Traffic Signal Graffiti               |137.64583330000002|\n",
      "|License Requied Used Mattress Sales   |128.79828704142858|\n",
      "+--------------------------------------+------------------+\n",
      "only showing top 10 rows\n",
      "\n"
     ]
    }
   ],
   "source": [
    "#10 what are the top 10 service request types in terms of average days late?\n",
    "df.where('case_late==\"YES\"').groupBy('service_request_type').agg(mean('num_days_late')).sort(desc('avg(num_days_late)')).show(10, False)"
   ]
  },
  {
   "cell_type": "code",
   "execution_count": 36,
   "id": "3d51e6e6-aa2c-4a88-81f3-4bfcb1c45dd5",
   "metadata": {},
   "outputs": [
    {
     "name": "stdout",
     "output_type": "stream",
     "text": [
      "+------------------------+------------------+\n",
      "|department              |avg(num_days_late)|\n",
      "+------------------------+------------------+\n",
      "|Customer Service        |87.68385942150394 |\n",
      "|DSD/Code Enforcement    |49.38428705358908 |\n",
      "|Animal Care Services    |23.458633245820124|\n",
      "|Parks & Recreation      |22.348910457867518|\n",
      "|Trans & Cap Improvements|10.603064680316946|\n",
      "|Solid Waste             |7.186821906120899 |\n",
      "|Metro Health            |6.5438133155476494|\n",
      "+------------------------+------------------+\n",
      "\n"
     ]
    }
   ],
   "source": [
    "#avg the means is diffrent for each deparment\n",
    "df.where('case_late==\"YES\"').groupBy('department').agg(mean('num_days_late')).sort(desc('avg(num_days_late)')).show(10, False)"
   ]
  },
  {
   "cell_type": "code",
   "execution_count": 37,
   "id": "d7b9e852-b7bd-4b86-8f79-c1e2f6711ee0",
   "metadata": {},
   "outputs": [
    {
     "name": "stdout",
     "output_type": "stream",
     "text": [
      "+-----------------------------------------------+------------------------+-------------------+\n",
      "|service_request_type                           |department              |avg(num_days_late) |\n",
      "+-----------------------------------------------+------------------------+-------------------+\n",
      "|Zoning: Recycle Yard                           |DSD/Code Enforcement    |210.89201994318182 |\n",
      "|Zoning: Junk Yards                             |DSD/Code Enforcement    |200.20517608494276 |\n",
      "|Structure/Housing Maintenance                  |DSD/Code Enforcement    |190.20707698509807 |\n",
      "|Donation Container Enforcement                 |DSD/Code Enforcement    |171.09115313942615 |\n",
      "|Storage of Used Mattress                       |DSD/Code Enforcement    |163.96812829714287 |\n",
      "|Labeling for Used Mattress                     |DSD/Code Enforcement    |162.43032902285717 |\n",
      "|Record Keeping of Used Mattresses              |DSD/Code Enforcement    |153.99724039428568 |\n",
      "|Signage Requied for Sale of Used Mattr         |DSD/Code Enforcement    |151.63868055333333 |\n",
      "|Traffic Signal Graffiti                        |Trans & Cap Improvements|137.64583330000002 |\n",
      "|License Requied Used Mattress Sales            |DSD/Code Enforcement    |128.79828704142858 |\n",
      "|Curbstoning                                    |DSD/Code Enforcement    |120.39566479917886 |\n",
      "|Vendors                                        |DSD/Code Enforcement    |117.72551367776335 |\n",
      "|CPS Energy Wood Poles                          |DSD/Code Enforcement    |115.18708329999998 |\n",
      "|Graffiti: Private Property (Corridors)         |DSD/Code Enforcement    |114.09439580800002 |\n",
      "|Used Mattress Inspection                       |DSD/Code Enforcement    |108.14074724718749 |\n",
      "|DSDB Ordered/Hold Harmless/Regular: Main       |DSD/Code Enforcement    |94.9029600898138   |\n",
      "|DSDB Ordered/Hold Harmless/Regular-ALL         |DSD/Code Enforcement    |90.60137650743478  |\n",
      "|DSDB Ordered/Hold Harmless/Regular: ASEC       |DSD/Code Enforcement    |88.67873591760812  |\n",
      "|Complaint                                      |Customer Service        |87.74197415340986  |\n",
      "|Zoning: Setbacks                               |DSD/Code Enforcement    |86.72783777095414  |\n",
      "|Dart Preliminary Inspection                    |DSD/Code Enforcement    |85.06190586980954  |\n",
      "|Vacant Lot: Over 12\"\"                          |DSD/Code Enforcement    |82.08825231        |\n",
      "|Permits Building                               |DSD/Code Enforcement    |81.08045565537573  |\n",
      "|Street Light New Development                   |DSD/Code Enforcement    |80.91673396907407  |\n",
      "|No Address Posted                              |DSD/Code Enforcement    |79.4926581827068   |\n",
      "|Low Hanging Limbs on Streets/Sidewalk          |DSD/Code Enforcement    |78.07437152269999  |\n",
      "|Compliment                                     |Customer Service        |78.00775655916665  |\n",
      "|Certificates of Occupancy                      |DSD/Code Enforcement    |77.62671183098276  |\n",
      "|Amenity Park Improvement                       |Parks & Recreation      |76.87018194568     |\n",
      "|Wasting Water (Leaks)                          |DSD/Code Enforcement    |76.3554676         |\n",
      "|Status: On-Going CIMS Projects                 |Trans & Cap Improvements|76.07892152387127  |\n",
      "|Major Park Improvement Install                 |Parks & Recreation      |75.79450367282354  |\n",
      "|Dumpsters: Maintenance/Sanitation              |DSD/Code Enforcement    |74.15533508843903  |\n",
      "|\"Vacant Lot-State (12\"\")\"                      |DSD/Code Enforcement    |72.08425347        |\n",
      "|Zoning: District Requirement                   |DSD/Code Enforcement    |70.6059230737488   |\n",
      "|Public Nuisance(Own Animal)                    |Animal Care Services    |70.59049373844732  |\n",
      "|Bandit Signs                                   |DSD/Code Enforcement    |70.56175559550488  |\n",
      "|Animal Permits Request                         |Animal Care Services    |70.55085006261557  |\n",
      "|Used/Scrap Tire Facility Periodic Inspection   |DSD/Code Enforcement    |69.78109578045945  |\n",
      "|Discharge Into Pub. Waters/St                  |DSD/Code Enforcement    |69.25717593        |\n",
      "|Improper Storage of Tires/At Facility          |DSD/Code Enforcement    |69.2234382194375   |\n",
      "|Zoning: Outside Storage                        |DSD/Code Enforcement    |68.61202789542104  |\n",
      "|Street Light Existing Res Sub Div              |DSD/Code Enforcement    |66.85450799247805  |\n",
      "|Zoning: Multi-Family In Single                 |DSD/Code Enforcement    |66.80722948439215  |\n",
      "|Reservation Assistance                         |Parks & Recreation      |66.03116319        |\n",
      "|Zoning Business in Resident Area               |DSD/Code Enforcement    |63.99158564644248  |\n",
      "|Markings Installation SMO (NEW)                |Trans & Cap Improvements|62.24574940750001  |\n",
      "|Contracted Service Issues                      |Solid Waste             |62.05046402263636  |\n",
      "|Water No Services                              |DSD/Code Enforcement    |59.51258018821428  |\n",
      "|Park Building Maint Invest                     |Parks & Recreation      |59.367469802695666 |\n",
      "|Minimum Housing-Owner Occupied                 |DSD/Code Enforcement    |57.92188852771554  |\n",
      "|Boarding Home Inspection                       |DSD/Code Enforcement    |57.8440027366      |\n",
      "|Graffiti-Private Property                      |DSD/Code Enforcement    |56.977743062833326 |\n",
      "|Historical Building (No Permits)               |DSD/Code Enforcement    |56.75463107125     |\n",
      "|Dang Premises/Secure Only                      |DSD/Code Enforcement    |55.727010269       |\n",
      "|Zoning: Visual Obstruction                     |DSD/Code Enforcement    |55.5964300737907   |\n",
      "|Junk Vehicle On Private Property               |DSD/Code Enforcement    |53.62683109281785  |\n",
      "|Graffiti: Vacant (Commercial)                  |DSD/Code Enforcement    |52.594780093333334 |\n",
      "|Junk Vehicle - Wrecked or Dismantled           |DSD/Code Enforcement    |52.08946448717074  |\n",
      "|Sportfield Lighting                            |Parks & Recreation      |51.480049793645534 |\n",
      "|Zoning: Mobile Homes                           |DSD/Code Enforcement    |49.1692772004      |\n",
      "|Minimum Housing-Tenant Occupied                |DSD/Code Enforcement    |48.435228679442105 |\n",
      "|Overgrown Yard/Trash                           |DSD/Code Enforcement    |44.856317751084305 |\n",
      "|Sanitary Conditions                            |Metro Health            |44.374958048124995 |\n",
      "|Used/Scrap Tire Facility License Pending       |DSD/Code Enforcement    |43.90779250713637  |\n",
      "|Brush Violations                               |DSD/Code Enforcement    |43.87700744751887  |\n",
      "|Electrical                                     |Parks & Recreation      |42.951971658345116 |\n",
      "|Permits, Fences                                |DSD/Code Enforcement    |42.726547859582084 |\n",
      "|Zoning: Illumination                           |DSD/Code Enforcement    |41.7705833328      |\n",
      "|Whole Scrap Tires Not Marked                   |DSD/Code Enforcement    |41.5605555626      |\n",
      "|Emergency: Main and Accessory Structures       |DSD/Code Enforcement    |41.48484592187501  |\n",
      "|Dang. Premises/CL/SEC                          |DSD/Code Enforcement    |41.254598450653056 |\n",
      "|Guardrail- New Request                         |Trans & Cap Improvements|41.06460648        |\n",
      "|Tree Removal                                   |Parks & Recreation      |40.28404224560715  |\n",
      "|Alley-Way Maintenance                          |DSD/Code Enforcement    |40.14392301190415  |\n",
      "|\"Vacant Lot-City (12\"\")\"                       |DSD/Code Enforcement    |39.764264469850005 |\n",
      "|Lot-Private (1000)                             |DSD/Code Enforcement    |38.881535014187506 |\n",
      "|Landscape Maintenance                          |Parks & Recreation      |38.86797941326316  |\n",
      "|Heavy Equipment                                |Parks & Recreation      |38.56625730831579  |\n",
      "|\"Vacant Lot-Private (12\"\")\"                    |DSD/Code Enforcement    |38.179924606329614 |\n",
      "|Service Information                            |Solid Waste             |38.177857316864    |\n",
      "|\"Vacant Lot-County (12\"\")\"                     |DSD/Code Enforcement    |37.700333331799996 |\n",
      "|Pooled Water (Mosquito Breed)                  |DSD/Code Enforcement    |37.3747825685      |\n",
      "|Base/Pavement Repair                           |Trans & Cap Improvements|36.89760411902891  |\n",
      "|Sewer Line Broken                              |DSD/Code Enforcement    |34.0461307881      |\n",
      "|Vacant Lot: Within 1000 School/Day Care        |DSD/Code Enforcement    |34.00880787        |\n",
      "|Miscellaneous Park Equipment                   |Parks & Recreation      |33.62472491253488  |\n",
      "|Dead Trees: Private Property                   |DSD/Code Enforcement    |32.421906130551726 |\n",
      "|Vacant House Overgrown Yard                    |DSD/Code Enforcement    |32.367429918625    |\n",
      "|Vacant Lot/Overgrown/Trash                     |DSD/Code Enforcement    |32.231400044325795 |\n",
      "|\"Vacant Lot-City (48\"\")\"                       |DSD/Code Enforcement    |30.868318865       |\n",
      "|Tree Trimming/Maintenance                      |Parks & Recreation      |30.702768979017545 |\n",
      "|Speed Hump Repairs - Emergency                 |Trans & Cap Improvements|30.560072323307324 |\n",
      "|Improper Rec Keeping-Used/Scrap Tire Fac       |DSD/Code Enforcement    |30.445810184857145 |\n",
      "|Aggressive Animal(Non-Critical)                |Animal Care Services    |30.077902423477003 |\n",
      "|Animal Neglect                                 |Animal Care Services    |29.870833535986    |\n",
      "|Swim. Pool Inspect: Residential                |DSD/Code Enforcement    |29.532866510666665 |\n",
      "|Dang Premises/Cut/Clean Only                   |DSD/Code Enforcement    |29.162591701153847 |\n",
      "|Organics Info / Literature Request             |Solid Waste             |28.924804929364736 |\n",
      "|General Building Maintenance                   |Parks & Recreation      |28.192905974561906 |\n",
      "|Masonry                                        |Parks & Recreation      |27.989420392890622 |\n",
      "|Zoning: Oversized Vehicles                     |DSD/Code Enforcement    |27.572057543157552 |\n",
      "|Garbage PU Alley Maintenance                   |Trans & Cap Improvements|27.382440475428574 |\n",
      "|Solid Waste Fees and Charges                   |Solid Waste             |26.15629165784158  |\n",
      "|Graffiti: Sidewalk                             |DSD/Code Enforcement    |26.113246188411768 |\n",
      "|Painting                                       |Parks & Recreation      |25.404551756282608 |\n",
      "|Water Ponding or Standing                      |Trans & Cap Improvements|25.277715568968752 |\n",
      "|Graffiti: Building                             |DSD/Code Enforcement    |24.681820444538207 |\n",
      "|\"Vacant Lot-County (48\"\")\"                     |DSD/Code Enforcement    |24.03947917        |\n",
      "|Graffiti: Traffic Control Box                  |DSD/Code Enforcement    |23.82376133304166  |\n",
      "|All-Way Stop Study                             |Trans & Cap Improvements|23.376437389285712 |\n",
      "|\"Vacant Lot-Private (48\"\")\"                    |DSD/Code Enforcement    |22.796820783842108 |\n",
      "|Speed Hump Repairs                             |Trans & Cap Improvements|22.692905702842104 |\n",
      "|Emergency: Main Structure Only                 |DSD/Code Enforcement    |22.410301888583334 |\n",
      "|Sign Maintenance                               |Parks & Recreation      |22.281778663588234 |\n",
      "|Emergency: Accessory Structure Only            |DSD/Code Enforcement    |21.566118056200004 |\n",
      "|Aggressive Animal(Critical)                    |Animal Care Services    |21.462057182311593 |\n",
      "|Graffiti: Fence                                |DSD/Code Enforcement    |20.530925926118538 |\n",
      "|Fence/Gate Repair                              |Parks & Recreation      |20.366796601056603 |\n",
      "|Basketball Goals on R.O.W.                     |DSD/Code Enforcement    |20.006472470022135 |\n",
      "|Graffiti: Drainage Channel                     |DSD/Code Enforcement    |19.973799108607476 |\n",
      "|Manhole Sunken/Raised                          |Trans & Cap Improvements|19.8322314816      |\n",
      "|Multi Tenant Interior                          |DSD/Code Enforcement    |19.756423615       |\n",
      "|Small Equipment Repair                         |Parks & Recreation      |19.644149305       |\n",
      "|Pools                                          |Parks & Recreation      |19.489430630709677 |\n",
      "|Pavement Marking Changes                       |Trans & Cap Improvements|19.4890347226      |\n",
      "|Graffiti: Retaining Wall                       |DSD/Code Enforcement    |19.309266321564973 |\n",
      "|Recycling - No Pick Up                         |Solid Waste             |19.119742548439024 |\n",
      "|Garage Sales No Permit                         |DSD/Code Enforcement    |19.038531043130426 |\n",
      "|Traffic Signal Ops and Maintenance             |Trans & Cap Improvements|18.775019013714285 |\n",
      "|Plumbing                                       |Parks & Recreation      |18.621826175298462 |\n",
      "|Disability Service Requested                   |Solid Waste             |18.56621077140487  |\n",
      "|Plumbing/Drinking Fountain/Sprinklers          |Parks & Recreation      |18.18076193409091  |\n",
      "|Irrigation                                     |Parks & Recreation      |17.58814428966667  |\n",
      "|Sign Fabrication - Internal                    |Trans & Cap Improvements|17.046521991166667 |\n",
      "|Shoulder Repair                                |Trans & Cap Improvements|16.943385416666665 |\n",
      "|Speed Hump Request                             |Trans & Cap Improvements|16.777002313       |\n",
      "|Storm Damage                                   |Solid Waste             |16.571383376666663 |\n",
      "|Solid Waste Insp: Dead Animals                 |DSD/Code Enforcement    |16.525377937384615 |\n",
      "|Cart Placement                                 |Solid Waste             |16.388442418530534 |\n",
      "|Graffiti: Curb                                 |DSD/Code Enforcement    |16.156891533       |\n",
      "|Traffic Signal New Request                     |Trans & Cap Improvements|16.078495370615382 |\n",
      "|Right Of Way/Sidewalk Obstruction              |DSD/Code Enforcement    |16.005284315730805 |\n",
      "|Fencing                                        |Parks & Recreation      |15.664453468033898 |\n",
      "|Graffiti Public Property                       |DSD/Code Enforcement    |15.65655824561081  |\n",
      "|School Flashers- New request                   |Trans & Cap Improvements|15.4444212945      |\n",
      "|Heating and Air Conditioning                   |Parks & Recreation      |15.376614913757145 |\n",
      "|Signs                                          |Parks & Recreation      |15.306444405203388 |\n",
      "|Sidewalk Cost Sharing Program                  |Trans & Cap Improvements|14.628967014499999 |\n",
      "|Organics No Pickup                             |Solid Waste             |14.507717912241379 |\n",
      "|Front Or Side Yard Parking                     |DSD/Code Enforcement    |14.157497425708751 |\n",
      "|Carpentry                                      |Parks & Recreation      |14.14768626942419  |\n",
      "|Pests                                          |Metro Health            |13.893718639596772 |\n",
      "|Trail/Greenway Maintenance                     |Parks & Recreation      |13.450237682142857 |\n",
      "|Automation Property Damage                     |Solid Waste             |13.395038678905982 |\n",
      "|Solid Waste - Miscellaneous                    |Solid Waste             |13.22888506561607  |\n",
      "|Outdoor Athletic Court/Field Maint             |Parks & Recreation      |13.078582820074073 |\n",
      "|Alley Problems                                 |Solid Waste             |12.985345507777776 |\n",
      "|Street/Drainage Problem Investigation          |Trans & Cap Improvements|12.697097802750001 |\n",
      "|Signal Timing Modification                     |Trans & Cap Improvements|12.487220568928572 |\n",
      "|Dead End/No Outlet Sign Request                |Trans & Cap Improvements|12.359953703555556 |\n",
      "|Alley Address Required                         |DSD/Code Enforcement    |11.8344213         |\n",
      "|Vehicle Blocking                               |DSD/Code Enforcement    |11.66791464491667  |\n",
      "|Pool Maintenance                               |Parks & Recreation      |10.8618798225      |\n",
      "|Curb or Sidewalk Investigation                 |Trans & Cap Improvements|10.384255813916663 |\n",
      "|Dumpsters: City R.O.W.                         |DSD/Code Enforcement    |10.185125553695652 |\n",
      "|Bulk Partial Pick Up                           |Solid Waste             |10.138635802000001 |\n",
      "|Hygienic Practices                             |Metro Health            |9.793239582614286  |\n",
      "|Request for Commercial Service                 |Solid Waste             |9.554595675417062  |\n",
      "|Bulk-non Compliance Notice                     |Solid Waste             |9.320306268307691  |\n",
      "|Darner Maintenance                             |Parks & Recreation      |9.310824074699998  |\n",
      "|City Council Animal Request                    |Animal Care Services    |9.256772641875     |\n",
      "|Food Borne Illness                             |Metro Health            |9.162449074        |\n",
      "|Sign - No Thru Truck - New Request             |Trans & Cap Improvements|9.084374999666666  |\n",
      "|Lake/Pond Maintenance                          |Parks & Recreation      |8.434912367428572  |\n",
      "|Scattered Material                             |Solid Waste             |8.229263671829166  |\n",
      "|Public Right of Way                            |Metro Health            |7.86384499683575   |\n",
      "|3rd Call Bagged Leaves with Fee                |Solid Waste             |7.757505787666666  |\n",
      "|Food Source                                    |Metro Health            |7.311149693333333  |\n",
      "|Driveways -Adjust                              |Trans & Cap Improvements|7.198996913666669  |\n",
      "|Brush-non Compliance Notice                    |Solid Waste             |7.194541377708333  |\n",
      "|Public/Semi-Public Pools/Spas                  |Metro Health            |7.1876980454999995 |\n",
      "|Parking Issue                                  |Trans & Cap Improvements|7.166368312555556  |\n",
      "|Initiating Unknown Project Investigation       |Trans & Cap Improvements|7.093672068293936  |\n",
      "|Pavers Broken/Missing                          |Trans & Cap Improvements|7.0871932865       |\n",
      "|Fly Breeding and Animal Waste Disposal         |DSD/Code Enforcement    |7.040374228666667  |\n",
      "|Speed Hump Set Missing                         |Trans & Cap Improvements|6.881233796000001  |\n",
      "|Brush/Debris Collection                        |Parks & Recreation      |6.36092223225532   |\n",
      "|Food Contact Surfaces                          |Metro Health            |6.12701930706383   |\n",
      "|Parks Mowing                                   |Parks & Recreation      |5.8807026145000005 |\n",
      "|Pressure Washing                               |Parks & Recreation      |5.632320601        |\n",
      "|1st Call Bagged Leaves                         |Solid Waste             |5.413281525556651  |\n",
      "|Absentee Property Assessment-Posting           |DSD/Code Enforcement    |5.291590277900001  |\n",
      "|Accident Problem Investigation                 |Trans & Cap Improvements|5.271858282555556  |\n",
      "|Welding                                        |Parks & Recreation      |5.261223279370369  |\n",
      "|Brush Missed Pick up                           |Solid Waste             |5.041803009269999  |\n",
      "|Animal Bite(Non-Critical)                      |Animal Care Services    |4.676201441082707  |\n",
      "|Bulk Missed Pick up                            |Solid Waste             |4.621264606154929  |\n",
      "|Traffic Issue Investigation                    |Trans & Cap Improvements|4.610674051952381  |\n",
      "|Working without a License                      |Metro Health            |4.593552000464285  |\n",
      "|Guard Rail/Guard Post Damage                   |Trans & Cap Improvements|4.557404665894736  |\n",
      "|Speed Limit Sign                               |Trans & Cap Improvements|4.530694444500001  |\n",
      "|School Sign New Request                        |Trans & Cap Improvements|4.5224971065       |\n",
      "|Food Poisoning                                 |Metro Health            |4.406485615357143  |\n",
      "|Brush Property Damage                          |Solid Waste             |4.362641461        |\n",
      "|Traffic Sign Graffiti                          |Trans & Cap Improvements|4.345709683116667  |\n",
      "|Brush Partial Pick Up                          |Solid Waste             |4.3417893524       |\n",
      "|Sign Installations SMO (NEW)                   |Trans & Cap Improvements|4.310457176000001  |\n",
      "|No Pickup                                      |Solid Waste             |4.169105870050456  |\n",
      "|\"Vacant Lot-State (48\"\")\"                      |DSD/Code Enforcement    |4.019363426        |\n",
      "|Stop Sign New Request                          |Trans & Cap Improvements|4.014822531333333  |\n",
      "|2nd Call Bagged Leaves                         |Solid Waste             |3.7028964119642858 |\n",
      "|On-Going PW Projects                           |Trans & Cap Improvements|3.6235379129459457 |\n",
      "|Portable Toilets                               |Parks & Recreation      |3.305633417772727  |\n",
      "|Graffiti                                       |Parks & Recreation      |3.3019126984761904 |\n",
      "|Dead Animal - Cat                              |Solid Waste             |3.2830354940666666 |\n",
      "|Cart Delivery                                  |Solid Waste             |3.2575642119413235 |\n",
      "|Graffiti: Guardrail                            |DSD/Code Enforcement    |3.235615079142857  |\n",
      "|Dead Animal - Dog                              |Solid Waste             |3.190950854653846  |\n",
      "|License Renewal Invoice                        |Metro Health            |3.0876621369770114 |\n",
      "|Traffic Sign Faded                             |Trans & Cap Improvements|2.958780737819672  |\n",
      "|Wasting Water (General)                        |DSD/Code Enforcement    |2.781689815        |\n",
      "|Outdoor Trash/Mutt Mitts                       |Parks & Recreation      |2.579570105857143  |\n",
      "|Graffiti Int                                   |Parks & Recreation      |2.5695044026823535 |\n",
      "|Traffic Sign Visual Obst.Vegetation/Stop/Yield |Trans & Cap Improvements|2.4553344135333335 |\n",
      "|Pavement Marking Investigation                 |Trans & Cap Improvements|2.452948097165138  |\n",
      "|Ventilation                                    |Metro Health            |2.4094675925000004 |\n",
      "|Illegal Dumping (Non- residential areas)       |Solid Waste             |2.3787967460143142 |\n",
      "|Indoor Janitorial Services                     |Parks & Recreation      |2.2758472222       |\n",
      "|Drainage Channel/Debris Removal                |Trans & Cap Improvements|2.266603905859155  |\n",
      "|Drainage Investigation                         |Trans & Cap Improvements|2.2089386575       |\n",
      "|Additional Garbage Container - with Fee        |Solid Waste             |2.201215927176847  |\n",
      "|Damaged Organics Cart                          |Solid Waste             |2.1622337959999998 |\n",
      "|Disability Assistance Missed Pickup            |Solid Waste             |2.0809026582469015 |\n",
      "|Dead Animal - Misc                             |Solid Waste             |2.047548926727273  |\n",
      "|Drainage Inlet Repair                          |Trans & Cap Improvements|2.0243297557272726 |\n",
      "|Brush / Bulky Miscellaneous                    |Solid Waste             |2.014284647596774  |\n",
      "|School Flashers Maintenance                    |Trans & Cap Improvements|1.9156693294509803 |\n",
      "|Organics Cart Removal                          |Solid Waste             |1.8836434220416667 |\n",
      "|Engineering Investigation                      |Trans & Cap Improvements|1.8333236883333335 |\n",
      "|Lake and Ponds Maintenance                     |Parks & Recreation      |1.828557961736842  |\n",
      "|Recycle Container removed from Service         |Solid Waste             |1.7752700613333332 |\n",
      "|Bicycle Lane/Route New Request                 |Trans & Cap Improvements|1.514811921375     |\n",
      "|Cart Exchange Request                          |Solid Waste             |1.465491120827561  |\n",
      "|Smoking Ordinance                              |Metro Health            |1.4509085645000002 |\n",
      "|Traffic Sign Missing/Down                      |Trans & Cap Improvements|1.414472970451178  |\n",
      "|Lost/Stolen Cart                               |Solid Waste             |1.376174091729216  |\n",
      "|Additional Cart Request                        |Solid Waste             |1.3122689462078523 |\n",
      "|Cart PickUp                                    |Solid Waste             |1.3095083568230022 |\n",
      "|Flashing Beacon New Request                    |Trans & Cap Improvements|1.296105324        |\n",
      "|Damaged Cart                                   |Solid Waste             |1.2446085672003353 |\n",
      "|Cart Pickup                                    |Solid Waste             |1.1996690930361447 |\n",
      "|Concrete Infrastructure Repair                 |Trans & Cap Improvements|1.1875862543809523 |\n",
      "|Street Sweeping                                |Trans & Cap Improvements|1.0950208333       |\n",
      "|Playground Maintenance                         |Parks & Recreation      |1.0692418982500003 |\n",
      "|Organics Property Damage                       |Solid Waste             |1.0628819440000001 |\n",
      "|Amenity Park Improvement Int                   |Parks & Recreation      |1.060590278        |\n",
      "|Traffic Signal Ops and Maintenance - Emergency |Trans & Cap Improvements|1.0227309554090909 |\n",
      "|Brush - Out of Cycle Collection - Fee Required |Solid Waste             |0.9906110230719426 |\n",
      "|Drainage Inlet - Cleaning/Foul Odor            |Trans & Cap Improvements|0.9565798609999999 |\n",
      "|Ballfields                                     |Parks & Recreation      |0.90739547153125   |\n",
      "|Drainage Channel Restoration                   |Trans & Cap Improvements|0.9034722222222222 |\n",
      "|Drainage Channel - Surface Investigation       |Trans & Cap Improvements|0.867649853736842  |\n",
      "|Recycling - Scattered Material                 |Solid Waste             |0.8492650465       |\n",
      "|Trapped/Confined Animal                        |Animal Care Services    |0.8454007340263343 |\n",
      "|Pot Hole Repair                                |Trans & Cap Improvements|0.8251838172705449 |\n",
      "|Organics Cart Delivery                         |Solid Waste             |0.8144566171724137 |\n",
      "|Stop/Yield Sign Down/Missing/Faded             |Trans & Cap Improvements|0.7630890656452705 |\n",
      "|Rebarb Sticking Out                            |Trans & Cap Improvements|0.7315625001250001 |\n",
      "|Removal Of Obstruction                         |Trans & Cap Improvements|0.7022110473793104 |\n",
      "|Playgrounds                                    |Parks & Recreation      |0.6938048941428572 |\n",
      "|Manhole or Inlet Cover Missing                 |Trans & Cap Improvements|0.6932763532307692 |\n",
      "|Garbage Out of Cycle Collection                |Solid Waste             |0.6451286007777779 |\n",
      "|Traffic Sign Visual Obst.Vegetation/Other Signs|Trans & Cap Improvements|0.642028034925926  |\n",
      "|Misc Sign - New Request                        |Trans & Cap Improvements|0.6401118828095237 |\n",
      "|Visual Obstruction Vegetation Signal           |Trans & Cap Improvements|0.6375057869999999 |\n",
      "|Drainage Channel - Emergency                   |Trans & Cap Improvements|0.47793518513333333|\n",
      "|Street Sweeping- Emergency                     |Trans & Cap Improvements|0.47217163925925926|\n",
      "|Vegetation- Visual Obstruction                 |Trans & Cap Improvements|0.46198881183333335|\n",
      "|Barricade                                      |Trans & Cap Improvements|0.443125000125     |\n",
      "|Tree- Visual Obstruction                       |Trans & Cap Improvements|0.4226412036999999 |\n",
      "|Cart removed from Service                      |Solid Waste             |0.33641435179999996|\n",
      "|Road Curvature/Visual Obstruction              |Trans & Cap Improvements|0.31084490724999997|\n",
      "|Street Debris                                  |Trans & Cap Improvements|0.2703611112       |\n",
      "|Graffiti: Traffic Signal Pole                  |DSD/Code Enforcement    |0.2381828705       |\n",
      "|Animal Bite(Critical)                          |Animal Care Services    |0.2025050064511628 |\n",
      "|Additional Organics Cart Request               |Solid Waste             |0.18775462966666667|\n",
      "|Animal Cruelty(Critical)                       |Animal Care Services    |0.17984613640979386|\n",
      "|Brush No Notice                                |Solid Waste             |0.1786574075       |\n",
      "|Lost / Stolen Organics Cart                    |Solid Waste             |0.16582754649999998|\n",
      "|Tree Fallen                                    |Trans & Cap Improvements|0.093370949125     |\n",
      "|Officer Standby                                |Animal Care Services    |0.07241548515625   |\n",
      "|Injured Animal(Critical)                       |Animal Care Services    |0.06019443241785097|\n",
      "|Herbicide - Grass in curb or street            |Trans & Cap Improvements|0.052407407        |\n",
      "+-----------------------------------------------+------------------------+-------------------+\n",
      "\n"
     ]
    }
   ],
   "source": [
    "#How do number of days late depend on department and request type?\n",
    "df.select('*').where('case_late==\"YES\"').groupBy(['service_request_type','department']).agg(mean('num_days_late')).sort(desc('avg(num_days_late)')).show(df.count(), False)"
   ]
  },
  {
   "cell_type": "code",
   "execution_count": 38,
   "id": "af38f390-6f0e-4d50-882b-fc32ccdd1bac",
   "metadata": {},
   "outputs": [],
   "source": [
    "#avg number of days late changes depending on the service and department, cotentgent on eachother."
   ]
  },
  {
   "cell_type": "code",
   "execution_count": 39,
   "id": "db775950-edae-4716-8594-bee4f95e3e62",
   "metadata": {},
   "outputs": [],
   "source": [
    "#1 How many different cases are there by dept"
   ]
  },
  {
   "cell_type": "code",
   "execution_count": 48,
   "id": "fcafdaf6-6af8-4281-9736-aaa24104d1e3",
   "metadata": {},
   "outputs": [
    {
     "data": {
      "text/plain": [
       "<AxesSubplot:ylabel='department'>"
      ]
     },
     "execution_count": 48,
     "metadata": {},
     "output_type": "execute_result"
    },
    {
     "data": {
      "image/png": "[encoded data removed]",
      "text/plain": [
       "<Figure size 864x288 with 1 Axes>"
      ]
     },
     "metadata": {
      "needs_background": "light"
     },
     "output_type": "display_data"
    }
   ],
   "source": [
    "df.groupBy('department').count().toPandas().set_index('department')['count'].sort_values(ascending = False).plot.barh(width=0.5, edgecolor='black', figsize=(12,4))"
   ]
  },
  {
   "cell_type": "code",
   "execution_count": 50,
   "id": "05da9b53-0195-4d63-b77b-df4e1ce06722",
   "metadata": {},
   "outputs": [],
   "source": [
    "#Does the percentage of cases that are late vary by department?"
   ]
  },
  {
   "cell_type": "code",
   "execution_count": 102,
   "id": "86a99e01-bb01-4994-a327-8ddd3bd2b0ef",
   "metadata": {},
   "outputs": [],
   "source": [
    "temp = (\n",
    "    df.where('case_late == \"YES\"')\n",
    "# group by\n",
    "    .groupBy(\"department\") \n",
    "    .count()\n",
    "    .toPandas()\n",
    "    .set_index('department')\n",
    ")"
   ]
  },
  {
   "cell_type": "code",
   "execution_count": 103,
   "id": "65e71236-a10c-45ec-bd0a-52837b253db2",
   "metadata": {},
   "outputs": [],
   "source": [
    "temp = temp.rename(columns={'count':'num'})"
   ]
  },
  {
   "cell_type": "code",
   "execution_count": 104,
   "id": "115f1cd2-70e6-49fe-84ed-bb54fa683d18",
   "metadata": {},
   "outputs": [],
   "source": [
    "temp['percent'] = (temp.num / temp.groupby('department').num.sum().sum()) * 100"
   ]
  },
  {
   "cell_type": "code",
   "execution_count": 110,
   "id": "f765e092-e4c9-4a67-8147-6e9d67992772",
   "metadata": {},
   "outputs": [
    {
     "data": {
      "text/plain": [
       "<AxesSubplot:ylabel='department'>"
      ]
     },
     "execution_count": 110,
     "metadata": {},
     "output_type": "execute_result"
    },
    {
     "data": {
      "image/png": "[encoded data removed]",
      "text/plain": [
       "<Figure size 864x288 with 1 Axes>"
      ]
     },
     "metadata": {
      "needs_background": "light"
     },
     "output_type": "display_data"
    }
   ],
   "source": [
    "temp.percent.plot.barh(width=1, edgecolor='black',figsize=(12,4))"
   ]
  },
  {
   "cell_type": "code",
   "execution_count": 112,
   "id": "c12ef831-08da-43c9-b265-c792d3c2bc97",
   "metadata": {},
   "outputs": [],
   "source": [
    "#3 On average, how late are the late cases by department?"
   ]
  },
  {
   "cell_type": "code",
   "execution_count": 119,
   "id": "1764221e-55ab-4a72-b157-f83f44cbae55",
   "metadata": {},
   "outputs": [],
   "source": [
    "temp = (\n",
    "    df.where('case_late==\"YES\"')\n",
    "# group by\n",
    "    .groupBy(\"department\") \n",
    "    .agg(mean('num_days_late'))\n",
    "    .toPandas()\n",
    "    .set_index('department')\n",
    ")"
   ]
  },
  {
   "cell_type": "code",
   "execution_count": 123,
   "id": "ab8f9854-cc63-41e2-bd5f-ea56d525ff21",
   "metadata": {},
   "outputs": [
    {
     "data": {
      "text/plain": [
       "<AxesSubplot:ylabel='department'>"
      ]
     },
     "execution_count": 123,
     "metadata": {},
     "output_type": "execute_result"
    },
    {
     "data": {
      "image/png": "[encoded data removed]",
      "text/plain": [
       "<Figure size 864x288 with 1 Axes>"
      ]
     },
     "metadata": {
      "needs_background": "light"
     },
     "output_type": "display_data"
    }
   ],
   "source": [
    "temp.plot.barh(width=1, edgecolor='black',figsize=(12,4))"
   ]
  },
  {
   "cell_type": "code",
   "execution_count": 150,
   "id": "c645b558-dc00-4870-988c-f86da7870165",
   "metadata": {},
   "outputs": [],
   "source": [
    "#4 What is the service type that is the most late? Just for Parks & Rec?\n",
    "temp = (\n",
    "    df.where('case_late==\"YES\"' and 'department == \"Parks & Recreation\"')\n",
    "# group by\n",
    "    .groupBy(\"service_request_type\") \n",
    "     .count()\n",
    "    .toPandas()\n",
    "    .set_index('service_request_type')\n",
    ")"
   ]
  },
  {
   "cell_type": "code",
   "execution_count": 151,
   "id": "b0b04e69-8f10-4ee5-b594-839c22e46dba",
   "metadata": {},
   "outputs": [
    {
     "data": {
      "image/png": "[encoded data removed]",
      "text/plain": [
       "<Figure size 1152x648 with 1 Axes>"
      ]
     },
     "metadata": {
      "needs_background": "light"
     },
     "output_type": "display_data"
    }
   ],
   "source": [
    "temp.plot.bar(width=0.5, edgecolor='black',figsize=(16,9), legend = False)\n",
    "ticks, labels = plt.xticks()"
   ]
  },
  {
   "cell_type": "code",
   "execution_count": 152,
   "id": "7fab5aef-3acc-4c95-8e12-e177075afaf2",
   "metadata": {},
   "outputs": [],
   "source": [
    "#5 For the DSD/Code Enforcement department, what are the most common service request types? Look at other departments too."
   ]
  },
  {
   "cell_type": "code",
   "execution_count": 173,
   "id": "f7707c28-654d-4ebb-a7ff-1c75ffd02be7",
   "metadata": {},
   "outputs": [],
   "source": [
    "temp = (\n",
    "    df.where('department==\"DSD/Code Enforcement\"')\n",
    "    .groupBy(\"service_request_type\") \n",
    "     .count()\n",
    "    .orderBy(desc('count'))\n",
    "    .toPandas()\n",
    "    .set_index('service_request_type')\n",
    ")"
   ]
  },
  {
   "cell_type": "code",
   "execution_count": 174,
   "id": "440db71b-e295-4552-afbd-48bfd2ab52eb",
   "metadata": {},
   "outputs": [
    {
     "data": {
      "text/plain": [
       "Text(0.5, 1.0, 'Top 20 most popular service types for DSD')"
      ]
     },
     "execution_count": 174,
     "metadata": {},
     "output_type": "execute_result"
    },
    {
     "data": {
      "image/png": "[encoded data removed]",
      "text/plain": [
       "<Figure size 1008x288 with 1 Axes>"
      ]
     },
     "metadata": {
      "needs_background": "light"
     },
     "output_type": "display_data"
    }
   ],
   "source": [
    "temp.head(20).plot.bar(figsize=(14,4))\n",
    "plt.title('Top 20 most popular service types for DSD')"
   ]
  },
  {
   "cell_type": "code",
   "execution_count": 439,
   "id": "c4d43bd2-b7f0-4eba-8a72-0cb2885bfc14",
   "metadata": {},
   "outputs": [],
   "source": [
    "temp = (\n",
    "    df.where('department==\"Customer Service\"')\n",
    "    .groupBy(\"service_request_type\") \n",
    "     .count()\n",
    "    .orderBy(desc('count'))\n",
    "    .toPandas()\n",
    "    .set_index('service_request_type')\n",
    ")"
   ]
  },
  {
   "cell_type": "code",
   "execution_count": 441,
   "id": "b8563961-52ed-4a58-ae0b-b2aaa9304af0",
   "metadata": {},
   "outputs": [
    {
     "data": {
      "text/plain": [
       "Text(0.5, 1.0, 'Service types for customer service')"
      ]
     },
     "execution_count": 441,
     "metadata": {},
     "output_type": "execute_result"
    },
    {
     "data": {
      "image/png": "[encoded data removed]",
      "text/plain": [
       "<Figure size 1008x288 with 1 Axes>"
      ]
     },
     "metadata": {
      "needs_background": "light"
     },
     "output_type": "display_data"
    }
   ],
   "source": [
    "temp.head(20).plot.bar(figsize=(14,4))\n",
    "plt.title('Service types for customer service')"
   ]
  },
  {
   "cell_type": "code",
   "execution_count": 443,
   "id": "3c675008-d0dd-4323-b722-2ed2767a6d90",
   "metadata": {},
   "outputs": [],
   "source": [
    "temp = (\n",
    "    df.where('department==\"Animal Care Services\"')\n",
    "    .groupBy(\"service_request_type\") \n",
    "     .count()\n",
    "    .orderBy(desc('count'))\n",
    "    .toPandas()\n",
    "    .set_index('service_request_type')\n",
    ")"
   ]
  },
  {
   "cell_type": "code",
   "execution_count": 445,
   "id": "65e3d771-8160-4878-91ba-f7503fd240dd",
   "metadata": {},
   "outputs": [
    {
     "data": {
      "text/plain": [
       "Text(0.5, 1.0, 'Service types for Animal Care Services')"
      ]
     },
     "execution_count": 445,
     "metadata": {},
     "output_type": "execute_result"
    },
    {
     "data": {
      "image/png": "[encoded data removed]",
      "text/plain": [
       "<Figure size 1008x288 with 1 Axes>"
      ]
     },
     "metadata": {
      "needs_background": "light"
     },
     "output_type": "display_data"
    }
   ],
   "source": [
    "temp.head(10).plot.bar(figsize=(14,4))\n",
    "plt.title('Service types for Animal Care Services')"
   ]
  },
  {
   "cell_type": "code",
   "execution_count": 177,
   "id": "64a96faa-61f3-422f-a4c7-9313b56d13e6",
   "metadata": {},
   "outputs": [],
   "source": [
    "#Does whether or not its a weekend matter for when a case is opened/closed?"
   ]
  },
  {
   "cell_type": "code",
   "execution_count": 251,
   "id": "875126ca-ad47-4e4b-8bcc-acb957f64ed3",
   "metadata": {},
   "outputs": [],
   "source": [
    "cases = (\n",
    "    df\n",
    "    .groupby('case_closed_date')\n",
    "    .count()\n",
    "    .na.drop()\n",
    "    .sort('case_closed_date')\n",
    "    .toPandas()\n",
    "    .assign(case_closed_date=lambda df: pd.to_datetime(df.case_closed_date))\n",
    "    .set_index('case_closed_date')\n",
    "    ['count']\n",
    ")"
   ]
  },
  {
   "cell_type": "code",
   "execution_count": 253,
   "id": "6a57f104-c17c-4c8e-b8ae-42f04a579bd8",
   "metadata": {},
   "outputs": [],
   "source": [
    "cases = cases.reset_index()\n",
    "\n",
    "cases['dow'] = cases.case_closed_date.dt.day_name()"
   ]
  },
  {
   "cell_type": "code",
   "execution_count": 254,
   "id": "4845918f-e14f-4d17-8324-6cd18c722476",
   "metadata": {},
   "outputs": [
    {
     "data": {
      "text/plain": [
       "Text(0.5, 1.0, 'num of closed cases')"
      ]
     },
     "execution_count": 254,
     "metadata": {},
     "output_type": "execute_result"
    },
    {
     "data": {
      "image/png": "[encoded data removed]",
      "text/plain": [
       "<Figure size 1152x648 with 1 Axes>"
      ]
     },
     "metadata": {
      "needs_background": "light"
     },
     "output_type": "display_data"
    }
   ],
   "source": [
    "cases.groupby('dow').dow.count().plot.barh(figsize=(16,9))\n",
    "plt.title('num of closed cases')"
   ]
  },
  {
   "cell_type": "code",
   "execution_count": 255,
   "id": "60d6b581-29ba-4309-bb10-112194cf3c3b",
   "metadata": {},
   "outputs": [],
   "source": [
    "cases = (\n",
    "    df\n",
    "    .groupby('case_opened_date')\n",
    "    .count()\n",
    "    .sort('case_opened_date')\n",
    "    .toPandas()\n",
    "    .assign(case_closed_date=lambda df: pd.to_datetime(df.case_opened_date))\n",
    "    .set_index('case_opened_date')\n",
    "    ['count']\n",
    ")"
   ]
  },
  {
   "cell_type": "code",
   "execution_count": 257,
   "id": "15721aa0-29f3-4d98-bec1-ce27a5c63190",
   "metadata": {},
   "outputs": [],
   "source": [
    "cases = cases.reset_index()"
   ]
  },
  {
   "cell_type": "code",
   "execution_count": 261,
   "id": "df4349dd-e065-421c-89ed-a8684dccd71b",
   "metadata": {},
   "outputs": [],
   "source": [
    "cases['dow'] = cases.case_opened_date.dt.day_name()"
   ]
  },
  {
   "cell_type": "code",
   "execution_count": 263,
   "id": "767e3aa8-fcb4-4630-ad0e-aca3334a0833",
   "metadata": {},
   "outputs": [
    {
     "data": {
      "text/plain": [
       "Text(0.5, 1.0, 'num of closed cases')"
      ]
     },
     "execution_count": 263,
     "metadata": {},
     "output_type": "execute_result"
    },
    {
     "data": {
      "image/png": "[encoded data removed]",
      "text/plain": [
       "<Figure size 1152x648 with 1 Axes>"
      ]
     },
     "metadata": {
      "needs_background": "light"
     },
     "output_type": "display_data"
    }
   ],
   "source": [
    "cases.groupby('dow').dow.count().plot.barh(figsize=(16,9))\n",
    "plt.title('num of closed cases')"
   ]
  },
  {
   "cell_type": "code",
   "execution_count": 285,
   "id": "fec16484-22d6-411c-9b34-6903201be411",
   "metadata": {},
   "outputs": [],
   "source": [
    "# On average, how many cases are opened a day for the Customer Service department?"
   ]
  },
  {
   "cell_type": "code",
   "execution_count": 419,
   "id": "07653588-e7e8-4754-a624-d1f3d358a888",
   "metadata": {},
   "outputs": [],
   "source": [
    "cases = (\n",
    "    df.filter(df.department == \"Customer Service\")\n",
    "    .groupby(\"case_opened_date\")\n",
    "    .count()\n",
    "    .toPandas()\n",
    ")"
   ]
  },
  {
   "cell_type": "code",
   "execution_count": 420,
   "id": "8a458e94-7917-425c-bec1-3713dab19adc",
   "metadata": {},
   "outputs": [
    {
     "data": {
      "text/plain": [
       "<AxesSubplot:xlabel='dow', ylabel='num'>"
      ]
     },
     "execution_count": 420,
     "metadata": {},
     "output_type": "execute_result"
    },
    {
     "data": {
      "image/png": "[encoded data removed]",
      "text/plain": [
       "<Figure size 432x288 with 1 Axes>"
      ]
     },
     "metadata": {
      "needs_background": "light"
     },
     "output_type": "display_data"
    }
   ],
   "source": [
    "cases = cases.reset_index()\n",
    "cases['dow'] = cases.case_opened_date.dt.day_name()\n",
    "cases['case_opened_date_simple'] = cases.case_opened_date.dt.date\n",
    "cases = cases.rename(columns={'count':'num'})\n",
    "cases = cases.groupby(['case_opened_date_simple','dow']).num.sum().reset_index()\n",
    "sns.barplot(data=cases, x='dow', y = 'num')"
   ]
  },
  {
   "cell_type": "code",
   "execution_count": 421,
   "id": "852095cb-192a-44a6-a7a4-f4c541060d2b",
   "metadata": {},
   "outputs": [
    {
     "data": {
      "text/plain": [
       "5.564453125"
      ]
     },
     "execution_count": 421,
     "metadata": {},
     "output_type": "execute_result"
    }
   ],
   "source": [
    "cases.num.mean()"
   ]
  },
  {
   "cell_type": "code",
   "execution_count": 422,
   "id": "d84ad1c2-a88b-4089-97f3-9b9d05c3ed9d",
   "metadata": {},
   "outputs": [],
   "source": [
    "#Does the number of service requests for the solid waste department vary by day of the week?"
   ]
  },
  {
   "cell_type": "code",
   "execution_count": 423,
   "id": "dc0ccde3-396b-4755-a23a-e04c1d309ae4",
   "metadata": {},
   "outputs": [],
   "source": [
    "cases = (\n",
    "    df.withColumn(\"case_opened_date\", expr(\"date(case_opened_date)\"))\n",
    "    .filter(df.department == \"Solid Waste\")\n",
    "    .groupby('case_opened_date')\n",
    "    .count()\n",
    "    #.toPandas()\n",
    ")"
   ]
  },
  {
   "cell_type": "code",
   "execution_count": 427,
   "id": "edec26e0-970b-4c29-a41b-b47f575d0a73",
   "metadata": {},
   "outputs": [],
   "source": [
    "cases = cases.withColumn(\"week_day_name\", date_format(\"case_opened_date\", \"E\"))"
   ]
  },
  {
   "cell_type": "code",
   "execution_count": 428,
   "id": "220cf475-c229-4f86-9398-8c88564b9d94",
   "metadata": {},
   "outputs": [],
   "source": [
    "cases = cases.toPandas().set_index('week_day_name')"
   ]
  },
  {
   "cell_type": "code",
   "execution_count": 429,
   "id": "fec811ba-4a31-47f5-b005-4d8b84cfcdb7",
   "metadata": {},
   "outputs": [],
   "source": [
    "cases = cases.groupby(['week_day_name']).mean()"
   ]
  },
  {
   "cell_type": "code",
   "execution_count": 430,
   "id": "50d96c09-37a0-4145-8bc0-021c64f3200e",
   "metadata": {},
   "outputs": [
    {
     "data": {
      "text/html": [
       "<div>\n",
       "<style scoped>\n",
       "    .dataframe tbody tr th:only-of-type {\n",
       "        vertical-align: middle;\n",
       "    }\n",
       "\n",
       "    .dataframe tbody tr th {\n",
       "        vertical-align: top;\n",
       "    }\n",
       "\n",
       "    .dataframe thead th {\n",
       "        text-align: right;\n",
       "    }\n",
       "</style>\n",
       "<table border=\"1\" class=\"dataframe\">\n",
       "  <thead>\n",
       "    <tr style=\"text-align: right;\">\n",
       "      <th></th>\n",
       "      <th>count</th>\n",
       "    </tr>\n",
       "    <tr>\n",
       "      <th>week_day_name</th>\n",
       "      <th></th>\n",
       "    </tr>\n",
       "  </thead>\n",
       "  <tbody>\n",
       "    <tr>\n",
       "      <th>Fri</th>\n",
       "      <td>616.903614</td>\n",
       "    </tr>\n",
       "    <tr>\n",
       "      <th>Mon</th>\n",
       "      <td>691.488095</td>\n",
       "    </tr>\n",
       "    <tr>\n",
       "      <th>Sat</th>\n",
       "      <td>184.481928</td>\n",
       "    </tr>\n",
       "    <tr>\n",
       "      <th>Sun</th>\n",
       "      <td>81.964286</td>\n",
       "    </tr>\n",
       "    <tr>\n",
       "      <th>Thu</th>\n",
       "      <td>574.915663</td>\n",
       "    </tr>\n",
       "    <tr>\n",
       "      <th>Tue</th>\n",
       "      <td>691.904762</td>\n",
       "    </tr>\n",
       "    <tr>\n",
       "      <th>Wed</th>\n",
       "      <td>499.369048</td>\n",
       "    </tr>\n",
       "  </tbody>\n",
       "</table>\n",
       "</div>"
      ],
      "text/plain": [
       "                    count\n",
       "week_day_name            \n",
       "Fri            616.903614\n",
       "Mon            691.488095\n",
       "Sat            184.481928\n",
       "Sun             81.964286\n",
       "Thu            574.915663\n",
       "Tue            691.904762\n",
       "Wed            499.369048"
      ]
     },
     "execution_count": 430,
     "metadata": {},
     "output_type": "execute_result"
    }
   ],
   "source": [
    "cases"
   ]
  },
  {
   "cell_type": "code",
   "execution_count": 438,
   "id": "71763410-cb55-417b-b068-08751755d29a",
   "metadata": {},
   "outputs": [
    {
     "data": {
      "text/plain": [
       "<AxesSubplot:xlabel='week_day_name'>"
      ]
     },
     "execution_count": 438,
     "metadata": {},
     "output_type": "execute_result"
    },
    {
     "data": {
      "image/png": "[encoded data removed]",
      "text/plain": [
       "<Figure size 1008x360 with 1 Axes>"
      ]
     },
     "metadata": {
      "needs_background": "light"
     },
     "output_type": "display_data"
    }
   ],
   "source": [
    "cases.plot.bar(width=1, edgecolor=\"black\", color='white', figsize=(14, 5))"
   ]
  },
  {
   "cell_type": "code",
   "execution_count": null,
   "id": "f560f482-2e2c-4341-a1bf-0834865e5cc3",
   "metadata": {},
   "outputs": [],
   "source": []
  }
 ],
 "metadata": {
  "kernelspec": {
   "display_name": "Python 3",
   "language": "python",
   "name": "python3"
  },
  "language_info": {
   "codemirror_mode": {
    "name": "ipython",
    "version": 3
   },
   "file_extension": ".py",
   "mimetype": "text/x-python",
   "name": "python",
   "nbconvert_exporter": "python",
   "pygments_lexer": "ipython3",
   "version": "3.8.10"
  }
 },
 "nbformat": 4,
 "nbformat_minor": 5
}
