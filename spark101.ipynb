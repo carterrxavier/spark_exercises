{
 "cells": [
  {
   "cell_type": "code",
   "execution_count": 1,
   "id": "437bd486-1025-471b-a891-63a3e584389d",
   "metadata": {},
   "outputs": [
    {
     "data": {
      "text/html": [
       "\n",
       "            <div>\n",
       "                <p><b>SparkSession - in-memory</b></p>\n",
       "                \n",
       "        <div>\n",
       "            <p><b>SparkContext</b></p>\n",
       "\n",
       "            <p><a href=\"http://xaviers-air.attlocal.net:4041\">Spark UI</a></p>\n",
       "\n",
       "            <dl>\n",
       "              <dt>Version</dt>\n",
       "                <dd><code>v3.1.2</code></dd>\n",
       "              <dt>Master</dt>\n",
       "                <dd><code>local[*]</code></dd>\n",
       "              <dt>AppName</dt>\n",
       "                <dd><code>pyspark-shell</code></dd>\n",
       "            </dl>\n",
       "        </div>\n",
       "        \n",
       "            </div>\n",
       "        "
      ],
      "text/plain": [
       "<pyspark.sql.session.SparkSession at 0x7fd2d3880a90>"
      ]
     },
     "execution_count": 1,
     "metadata": {},
     "output_type": "execute_result"
    }
   ],
   "source": [
    "import pandas as pd\n",
    "import numpy as np\n",
    "\n",
    "from seaborn import load_dataset\n",
    "from pydataset import data\n",
    "from vega_datasets import data as vega\n",
    "\n",
    "from pyspark.sql.functions import sum, mean, concat, lit, regexp_extract, regexp_replace, when, col, date_trunc\n",
    "\n",
    "import pyspark; spark = pyspark.sql.SparkSession.builder.getOrCreate(); spark"
   ]
  },
  {
   "cell_type": "code",
   "execution_count": 2,
   "id": "100e6f07-a5fd-41dd-93bb-9a2ef484af46",
   "metadata": {},
   "outputs": [],
   "source": [
    "pandas_df = pd.DataFrame(data=['HTML', 'SQL', 'JavaScript', 'Python',\\\n",
    "                               'C++', 'Java', 'C#', 'CSS'], columns=['language'])"
   ]
  },
  {
   "cell_type": "code",
   "execution_count": 3,
   "id": "564474d0-aeea-4d64-813d-f84fcf1bc61e",
   "metadata": {},
   "outputs": [],
   "source": [
    "df = spark.createDataFrame(pandas_df)"
   ]
  },
  {
   "cell_type": "code",
   "execution_count": 4,
   "id": "8c5d741f-0e19-4958-b9f4-ecf8c75bd01b",
   "metadata": {},
   "outputs": [
    {
     "name": "stdout",
     "output_type": "stream",
     "text": [
      "+----------+\n",
      "|  language|\n",
      "+----------+\n",
      "|      HTML|\n",
      "|       SQL|\n",
      "|JavaScript|\n",
      "|    Python|\n",
      "|       C++|\n",
      "|      Java|\n",
      "|        C#|\n",
      "|       CSS|\n",
      "+----------+\n",
      "\n"
     ]
    }
   ],
   "source": [
    "df.show()"
   ]
  },
  {
   "cell_type": "code",
   "execution_count": 5,
   "id": "8da08c29-c29d-4e3e-b998-c3a5d3c71137",
   "metadata": {},
   "outputs": [
    {
     "data": {
      "text/plain": [
       "StructType(List(StructField(language,StringType,true)))"
      ]
     },
     "execution_count": 5,
     "metadata": {},
     "output_type": "execute_result"
    }
   ],
   "source": [
    "df.schema"
   ]
  },
  {
   "cell_type": "code",
   "execution_count": 6,
   "id": "119cba94-c0ec-481b-acaa-060eb9f28f66",
   "metadata": {},
   "outputs": [
    {
     "data": {
      "text/plain": [
       "8"
      ]
     },
     "execution_count": 6,
     "metadata": {},
     "output_type": "execute_result"
    }
   ],
   "source": [
    "df.count()"
   ]
  },
  {
   "cell_type": "code",
   "execution_count": 7,
   "id": "d2238722-5850-4e20-b7a0-e0aa34af6a59",
   "metadata": {},
   "outputs": [
    {
     "data": {
      "text/plain": [
       "1"
      ]
     },
     "execution_count": 7,
     "metadata": {},
     "output_type": "execute_result"
    }
   ],
   "source": [
    "len(df.columns)"
   ]
  },
  {
   "cell_type": "code",
   "execution_count": 8,
   "id": "fb0e417a-4f0e-4060-a443-eab375be0398",
   "metadata": {},
   "outputs": [],
   "source": [
    "#2. load mpg to dataframe"
   ]
  },
  {
   "cell_type": "code",
   "execution_count": 9,
   "id": "d08a36ee-bebc-433a-913d-dea334669a3e",
   "metadata": {},
   "outputs": [],
   "source": [
    "df = spark.createDataFrame(data('mpg'))"
   ]
  },
  {
   "cell_type": "code",
   "execution_count": 10,
   "id": "ff7da122-c316-4d64-ab98-a9bc19c7b2c0",
   "metadata": {},
   "outputs": [
    {
     "name": "stdout",
     "output_type": "stream",
     "text": [
      "+------------+-----+-----+----+---+----------+---+---+---+---+-------+\n",
      "|manufacturer|model|displ|year|cyl|     trans|drv|cty|hwy| fl|  class|\n",
      "+------------+-----+-----+----+---+----------+---+---+---+---+-------+\n",
      "|        audi|   a4|  1.8|1999|  4|  auto(l5)|  f| 18| 29|  p|compact|\n",
      "|        audi|   a4|  1.8|1999|  4|manual(m5)|  f| 21| 29|  p|compact|\n",
      "|        audi|   a4|  2.0|2008|  4|manual(m6)|  f| 20| 31|  p|compact|\n",
      "|        audi|   a4|  2.0|2008|  4|  auto(av)|  f| 21| 30|  p|compact|\n",
      "|        audi|   a4|  2.8|1999|  6|  auto(l5)|  f| 16| 26|  p|compact|\n",
      "+------------+-----+-----+----+---+----------+---+---+---+---+-------+\n",
      "only showing top 5 rows\n",
      "\n"
     ]
    }
   ],
   "source": [
    "df.show(5)"
   ]
  },
  {
   "cell_type": "code",
   "execution_count": 11,
   "id": "cacfb079-75d2-4f53-9fe8-403aa16ce3cb",
   "metadata": {},
   "outputs": [
    {
     "name": "stdout",
     "output_type": "stream",
     "text": [
      "+------------------------------------------------------------------------------+\n",
      "|concat(the , year,  , manufacturer,  , model,  has a , cyl,  cylinder engine.)|\n",
      "+------------------------------------------------------------------------------+\n",
      "|                                                          the 2008 audi a4 ...|\n",
      "|                                                          the 2008 audi a4 ...|\n",
      "|                                                          the 2008 audi a4 ...|\n",
      "|                                                          the 2008 audi a4 ...|\n",
      "|                                                          the 2008 audi a4 ...|\n",
      "+------------------------------------------------------------------------------+\n",
      "only showing top 5 rows\n",
      "\n"
     ]
    }
   ],
   "source": [
    "df.filter(df.year > 2000).select(concat(lit('the '),'year',lit(' '),'manufacturer',lit(' '),'model',lit(' has a '),'cyl',lit(' cylinder engine.'))).show(5)"
   ]
  },
  {
   "cell_type": "code",
   "execution_count": 12,
   "id": "3733e4dd-1a5d-4e97-88ca-8d70663f8135",
   "metadata": {},
   "outputs": [
    {
     "name": "stdout",
     "output_type": "stream",
     "text": [
      "+------------+-----+----+------+\n",
      "|manufacturer|model|year| trans|\n",
      "+------------+-----+----+------+\n",
      "|        audi|   a4|1999|  auto|\n",
      "|        audi|   a4|1999|manual|\n",
      "|        audi|   a4|2008|manual|\n",
      "|        audi|   a4|2008|  auto|\n",
      "|        audi|   a4|1999|  auto|\n",
      "+------------+-----+----+------+\n",
      "only showing top 5 rows\n",
      "\n"
     ]
    }
   ],
   "source": [
    "df.select('manufacturer', 'model', 'year', (when( df.trans.contains('auto'), 'auto').otherwise('manual')).alias('trans')).show(5)"
   ]
  },
  {
   "cell_type": "code",
   "execution_count": 13,
   "id": "0325e5dd-2e06-47a6-949b-be8a14ee8fd2",
   "metadata": {},
   "outputs": [],
   "source": [
    "df = spark.createDataFrame(data('tips'))"
   ]
  },
  {
   "cell_type": "code",
   "execution_count": 14,
   "id": "d26f14ac-9218-404b-ab74-a8f6375d4802",
   "metadata": {},
   "outputs": [
    {
     "data": {
      "text/plain": [
       "'38.11 % are smokers'"
      ]
     },
     "execution_count": 14,
     "metadata": {},
     "output_type": "execute_result"
    }
   ],
   "source": [
    "'{:.2f} % are smokers'.format((df.filter(df.smoker == \"Yes\").count() / df.count() * 100))\n"
   ]
  },
  {
   "cell_type": "code",
   "execution_count": 15,
   "id": "b828459f-90a2-4040-8ff5-5ce9d9b7f3d1",
   "metadata": {},
   "outputs": [
    {
     "name": "stdout",
     "output_type": "stream",
     "text": [
      "+----------+----+------+------+---+------+----+------------------+\n",
      "|total_bill| tip|   sex|smoker|day|  time|size|           tip_pct|\n",
      "+----------+----+------+------+---+------+----+------------------+\n",
      "|     16.99|1.01|Female|    No|Sun|Dinner|   2|5.9446733372572105|\n",
      "+----------+----+------+------+---+------+----+------------------+\n",
      "only showing top 1 row\n",
      "\n"
     ]
    }
   ],
   "source": [
    "df = df.select('*',(df.tip / df.total_bill * 100).alias('tip_pct'))\n",
    "df.show(1)"
   ]
  },
  {
   "cell_type": "code",
   "execution_count": 16,
   "id": "23d85eb1-41de-4862-aa4f-007dd162aa76",
   "metadata": {},
   "outputs": [
    {
     "name": "stdout",
     "output_type": "stream",
     "text": [
      "+------+------+------------------+\n",
      "|   sex|smoker|      avg(tip_pct)|\n",
      "+------+------+------------------+\n",
      "|  Male|    No| 16.06687151291298|\n",
      "|  Male|   Yes|15.277117520248513|\n",
      "|Female|    No| 15.69209707691836|\n",
      "|Female|   Yes| 18.21503526994103|\n",
      "+------+------+------------------+\n",
      "\n"
     ]
    }
   ],
   "source": [
    "df.groupby('sex','smoker').agg(mean('tip_pct')).show()"
   ]
  },
  {
   "cell_type": "code",
   "execution_count": 17,
   "id": "dbc21f13-7da9-4df6-8488-4f099467f64a",
   "metadata": {},
   "outputs": [],
   "source": [
    "df = spark.createDataFrame(vega('seattle_weather'))"
   ]
  },
  {
   "cell_type": "code",
   "execution_count": 18,
   "id": "c593c3d1-d305-4051-979a-304e716049b7",
   "metadata": {},
   "outputs": [],
   "source": [
    "df = df.select('date', 'precipitation',\n",
    "               ((df.temp_max * 1.8) + 32).alias('temp_max'),\n",
    "               ((df.temp_min * 1.8) + 32).alias('temp_min'),\n",
    "               'wind', 'weather')"
   ]
  },
  {
   "cell_type": "code",
   "execution_count": 20,
   "id": "54d2b361-3673-4e5b-9e02-6eaf978f5d41",
   "metadata": {},
   "outputs": [
    {
     "name": "stdout",
     "output_type": "stream",
     "text": [
      "+-------------------+-----------------+\n",
      "|              month|          avg_pcp|\n",
      "+-------------------+-----------------+\n",
      "|2015-12-01 00:00:00|9.177419354838714|\n",
      "+-------------------+-----------------+\n",
      "only showing top 1 row\n",
      "\n"
     ]
    }
   ],
   "source": [
    "df.groupby(date_trunc('month', col('date')).alias('month'))\\\n",
    "            .agg(mean('precipitation').alias('avg_pcp'))\\\n",
    "            .sort(col('avg_pcp').desc()).show(1)"
   ]
  },
  {
   "cell_type": "code",
   "execution_count": 21,
   "id": "3dbc39af-f851-404a-b351-8192d10e503c",
   "metadata": {},
   "outputs": [
    {
     "name": "stdout",
     "output_type": "stream",
     "text": [
      "+-------------------+-----------------+\n",
      "|               year|         avg_wind|\n",
      "+-------------------+-----------------+\n",
      "|2012-01-01 00:00:00|3.400819672131148|\n",
      "+-------------------+-----------------+\n",
      "only showing top 1 row\n",
      "\n"
     ]
    }
   ],
   "source": [
    "df.groupby(date_trunc('year', col('date')).alias('year'))\\\n",
    "            .agg(mean('wind').alias('avg_wind'))\\\n",
    "            .sort(col('avg_wind').desc()).show(1)"
   ]
  },
  {
   "cell_type": "code",
   "execution_count": 34,
   "id": "459955bd-2013-4d13-b0ad-9f6d169d80fc",
   "metadata": {},
   "outputs": [
    {
     "name": "stdout",
     "output_type": "stream",
     "text": [
      "+-------+-----+\n",
      "|weather|count|\n",
      "+-------+-----+\n",
      "|    fog|   38|\n",
      "|drizzle|   10|\n",
      "|   rain|   35|\n",
      "|    sun|   33|\n",
      "|   snow|    8|\n",
      "+-------+-----+\n",
      "\n"
     ]
    }
   ],
   "source": [
    "df.where(df.date.contains('-01-')).groupby('weather').count().show()"
   ]
  },
  {
   "cell_type": "code",
   "execution_count": 32,
   "id": "82b5128f-e9a2-4227-a0a7-dcdf4f47a71d",
   "metadata": {},
   "outputs": [
    {
     "name": "stdout",
     "output_type": "stream",
     "text": [
      "+-------+----------------+------------------+\n",
      "|weather|   avg(temp_max)|     avg(temp_min)|\n",
      "+-------+----------------+------------------+\n",
      "|    sun|66.8529411764706|48.695882352941176|\n",
      "+-------+----------------+------------------+\n",
      "\n"
     ]
    }
   ],
   "source": [
    "where = (df.weather == 'sun' ) & ((df.date > \"2012\") | (df.date < \"2015\"))\n",
    "df.where(where).groupby('weather').mean('temp_max', 'temp_min').show()"
   ]
  },
  {
   "cell_type": "code",
   "execution_count": null,
   "id": "7dcc1663-d575-4e7b-82af-26d194a848eb",
   "metadata": {},
   "outputs": [],
   "source": []
  }
 ],
 "metadata": {
  "kernelspec": {
   "display_name": "Python 3",
   "language": "python",
   "name": "python3"
  },
  "language_info": {
   "codemirror_mode": {
    "name": "ipython",
    "version": 3
   },
   "file_extension": ".py",
   "mimetype": "text/x-python",
   "name": "python",
   "nbconvert_exporter": "python",
   "pygments_lexer": "ipython3",
   "version": "3.8.10"
  }
 },
 "nbformat": 4,
 "nbformat_minor": 5
}
