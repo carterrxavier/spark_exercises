{
 "cells": [
  {
   "cell_type": "code",
   "execution_count": 121,
   "id": "8da9a8eb-baaa-4df5-8be7-c86fbe389f85",
   "metadata": {},
   "outputs": [],
   "source": [
    "from pyspark.sql import SparkSession\n",
    "from pyspark.sql.functions import *\n",
    "\n",
    "spark = SparkSession.builder.getOrCreate()"
   ]
  },
  {
   "cell_type": "code",
   "execution_count": 31,
   "id": "362f1da3-a69d-4056-ba11-6e33f609fad8",
   "metadata": {},
   "outputs": [],
   "source": [
    "# Read in CSV file \n",
    "source = (spark.read.csv(\"source.csv\",\n",
    "                     sep=\",\",\n",
    "                     header=True,\n",
    "                     inferSchema=True)\n",
    "     )\n",
    "dept = spark.read.csv(\"dept.csv\",\n",
    "                     sep=\",\",\n",
    "                     header=True,\n",
    "                     inferSchema=True)\n",
    "case = spark.read.csv(\"case.csv\",\n",
    "                     sep=\",\",\n",
    "                     header=True,\n",
    "                     inferSchema=True)"
   ]
  },
  {
   "cell_type": "code",
   "execution_count": null,
   "id": "d96904ae-56cb-4117-baab-f26c27932533",
   "metadata": {},
   "outputs": [],
   "source": []
  },
  {
   "cell_type": "code",
   "execution_count": 32,
   "id": "a047284c-f006-4260-b23e-caf6b049153b",
   "metadata": {},
   "outputs": [
    {
     "data": {
      "text/plain": [
       "(DataFrame[source_id: string, source_username: string],\n",
       " DataFrame[dept_division: string, dept_name: string, standardized_dept_name: string, dept_subject_to_SLA: string],\n",
       " DataFrame[case_id: int, case_opened_date: string, case_closed_date: string, SLA_due_date: string, case_late: string, num_days_late: double, case_closed: string, dept_division: string, service_request_type: string, SLA_days: double, case_status: string, source_id: string, request_address: string, council_district: int])"
      ]
     },
     "execution_count": 32,
     "metadata": {},
     "output_type": "execute_result"
    }
   ],
   "source": [
    "source, dept, case"
   ]
  },
  {
   "cell_type": "code",
   "execution_count": 33,
   "id": "2a760b12-c8c9-46fa-895f-3da1ac698f10",
   "metadata": {},
   "outputs": [
    {
     "name": "stdout",
     "output_type": "stream",
     "text": [
      "-RECORD 0---------------------------\n",
      " source_id       | 100137           \n",
      " source_username | Merlene Blodgett \n",
      "-RECORD 1---------------------------\n",
      " source_id       | 103582           \n",
      " source_username | Carmen Cura      \n",
      "-RECORD 2---------------------------\n",
      " source_id       | 106463           \n",
      " source_username | Richard Sanchez  \n",
      "only showing top 3 rows\n",
      "\n"
     ]
    }
   ],
   "source": [
    "source.show(3, truncate = False, vertical = True)"
   ]
  },
  {
   "cell_type": "code",
   "execution_count": 34,
   "id": "4eea214e-2a6a-4e56-9960-99c04672081f",
   "metadata": {},
   "outputs": [],
   "source": [
    "df = case"
   ]
  },
  {
   "cell_type": "code",
   "execution_count": 35,
   "id": "93f50599-a2bc-4f20-ac70-fb505219af06",
   "metadata": {},
   "outputs": [
    {
     "name": "stdout",
     "output_type": "stream",
     "text": [
      "-RECORD 0-----------------------------------------------------\n",
      " case_id              | 1014127332                            \n",
      " case_opened_date     | 1/1/18 0:42                           \n",
      " case_closed_date     | 1/1/18 12:29                          \n",
      " SLA_due_date         | 9/26/20 0:42                          \n",
      " case_late            | NO                                    \n",
      " num_days_late        | -998.5087616000001                    \n",
      " case_closed          | YES                                   \n",
      " dept_division        | Field Operations                      \n",
      " service_request_type | Stray Animal                          \n",
      " SLA_days             | 999.0                                 \n",
      " case_status          | Closed                                \n",
      " source_id            | svcCRMLS                              \n",
      " request_address      | 2315  EL PASO ST, San Antonio, 78207  \n",
      " council_district     | 5                                     \n",
      "-RECORD 1-----------------------------------------------------\n",
      " case_id              | 1014127333                            \n",
      " case_opened_date     | 1/1/18 0:46                           \n",
      " case_closed_date     | 1/3/18 8:11                           \n",
      " SLA_due_date         | 1/5/18 8:30                           \n",
      " case_late            | NO                                    \n",
      " num_days_late        | -2.0126041669999997                   \n",
      " case_closed          | YES                                   \n",
      " dept_division        | Storm Water                           \n",
      " service_request_type | Removal Of Obstruction                \n",
      " SLA_days             | 4.322222222                           \n",
      " case_status          | Closed                                \n",
      " source_id            | svcCRMSS                              \n",
      " request_address      | 2215  GOLIAD RD, San Antonio, 78223   \n",
      " council_district     | 3                                     \n",
      "-RECORD 2-----------------------------------------------------\n",
      " case_id              | 1014127334                            \n",
      " case_opened_date     | 1/1/18 0:48                           \n",
      " case_closed_date     | 1/2/18 7:57                           \n",
      " SLA_due_date         | 1/5/18 8:30                           \n",
      " case_late            | NO                                    \n",
      " num_days_late        | -3.022337963                          \n",
      " case_closed          | YES                                   \n",
      " dept_division        | Storm Water                           \n",
      " service_request_type | Removal Of Obstruction                \n",
      " SLA_days             | 4.320729167                           \n",
      " case_status          | Closed                                \n",
      " source_id            | svcCRMSS                              \n",
      " request_address      | 102  PALFREY ST W, San Antonio, 78223 \n",
      " council_district     | 3                                     \n",
      "only showing top 3 rows\n",
      "\n"
     ]
    }
   ],
   "source": [
    "df.show(3, truncate = False, vertical = True)"
   ]
  },
  {
   "cell_type": "code",
   "execution_count": 36,
   "id": "d5751e02-a0f6-4244-a023-ff0bda2ceed3",
   "metadata": {},
   "outputs": [
    {
     "data": {
      "text/plain": [
       "[('case_id', 'int'),\n",
       " ('case_opened_date', 'string'),\n",
       " ('case_closed_date', 'string'),\n",
       " ('SLA_due_date', 'string'),\n",
       " ('case_late', 'string'),\n",
       " ('num_days_late', 'double'),\n",
       " ('case_closed', 'string'),\n",
       " ('dept_division', 'string'),\n",
       " ('service_request_type', 'string'),\n",
       " ('SLA_days', 'double'),\n",
       " ('case_status', 'string'),\n",
       " ('source_id', 'string'),\n",
       " ('request_address', 'string'),\n",
       " ('council_district', 'int')]"
      ]
     },
     "execution_count": 36,
     "metadata": {},
     "output_type": "execute_result"
    }
   ],
   "source": [
    "df.dtypes"
   ]
  },
  {
   "cell_type": "code",
   "execution_count": 37,
   "id": "5b92e22c-bb58-4f5c-b117-6b8ba8265dfc",
   "metadata": {},
   "outputs": [],
   "source": [
    "#rename SLA Duedate to due date\n",
    "df = df.withColumnRenamed('SLA_due_date', 'case_due_date')"
   ]
  },
  {
   "cell_type": "code",
   "execution_count": 38,
   "id": "e952ca26-7d91-43b5-8c9f-0a599faa924c",
   "metadata": {},
   "outputs": [
    {
     "name": "stdout",
     "output_type": "stream",
     "text": [
      "+-----------+---------+\n",
      "|case_closed|case_late|\n",
      "+-----------+---------+\n",
      "|        YES|       NO|\n",
      "|        YES|       NO|\n",
      "|        YES|       NO|\n",
      "|        YES|       NO|\n",
      "|        YES|      YES|\n",
      "+-----------+---------+\n",
      "only showing top 5 rows\n",
      "\n"
     ]
    }
   ],
   "source": [
    "#correct datatypes\n",
    "df.select(\"case_closed\", \"case_late\").show(5)"
   ]
  },
  {
   "cell_type": "code",
   "execution_count": 39,
   "id": "605fe63f-691e-4391-9443-999b638069b0",
   "metadata": {},
   "outputs": [],
   "source": [
    "# change to boolean values \n",
    "df = df.withColumn('case_closed', expr('case_closed == \"YES\"'))\\\n",
    ".withColumn('case_late', expr('case_late == \"YES\"'))"
   ]
  },
  {
   "cell_type": "code",
   "execution_count": 40,
   "id": "96ec70e7-2629-4641-868d-ab3f909d1a5f",
   "metadata": {},
   "outputs": [
    {
     "name": "stdout",
     "output_type": "stream",
     "text": [
      "+-----------+---------+\n",
      "|case_closed|case_late|\n",
      "+-----------+---------+\n",
      "|       true|    false|\n",
      "|       true|    false|\n",
      "|       true|    false|\n",
      "|       true|    false|\n",
      "|       true|     true|\n",
      "+-----------+---------+\n",
      "only showing top 5 rows\n",
      "\n"
     ]
    }
   ],
   "source": [
    "df.select(\"case_closed\", \"case_late\").show(5)"
   ]
  },
  {
   "cell_type": "code",
   "execution_count": 41,
   "id": "8fec7cbc-f4af-45b4-b250-85372c85ffc5",
   "metadata": {},
   "outputs": [
    {
     "name": "stdout",
     "output_type": "stream",
     "text": [
      "+----------------+\n",
      "|council_district|\n",
      "+----------------+\n",
      "|               5|\n",
      "|               3|\n",
      "|               3|\n",
      "|               3|\n",
      "+----------------+\n",
      "only showing top 4 rows\n",
      "\n"
     ]
    }
   ],
   "source": [
    "#set district to string \n",
    "df.select('council_district').show(4)"
   ]
  },
  {
   "cell_type": "code",
   "execution_count": 42,
   "id": "540f026f-a10f-4513-9120-0f5760c63685",
   "metadata": {},
   "outputs": [],
   "source": [
    "# council_district as a string instead of int\n",
    "df = df.withColumn('council_district', col('council_district').cast('string'))"
   ]
  },
  {
   "cell_type": "code",
   "execution_count": 43,
   "id": "6b83bb7b-3e6e-431a-801c-c5c998a9ce84",
   "metadata": {},
   "outputs": [],
   "source": [
    "#format dates to_timestamp, fmt\n",
    "\n",
    "fmt = \"M/d/yy H:mm\"\n",
    "\n",
    "df = df.withColumn('case_opened_date', to_timestamp('case_opened_date', fmt))\\\n",
    ".withColumn('case_closed_date', to_timestamp('case_closed_date', fmt))\\\n",
    ".withColumn('case_due_date', to_timestamp('case_due_date', fmt))\n"
   ]
  },
  {
   "cell_type": "code",
   "execution_count": 44,
   "id": "efa08c19-bd58-4393-98e3-5783697cf2e7",
   "metadata": {},
   "outputs": [
    {
     "name": "stdout",
     "output_type": "stream",
     "text": [
      "+-------------------------------------+\n",
      "|request_address                      |\n",
      "+-------------------------------------+\n",
      "|2315  el paso st, san antonio, 78207 |\n",
      "|2215  goliad rd, san antonio, 78223  |\n",
      "|102  palfrey st w, san antonio, 78223|\n",
      "|114  la garde st, san antonio, 78223 |\n",
      "|734  clearview dr, san antonio, 78228|\n",
      "+-------------------------------------+\n",
      "only showing top 5 rows\n",
      "\n"
     ]
    }
   ],
   "source": [
    "#standardize address\n",
    "df = df.withColumn('request_address', trim(lower(df.request_address)))\n",
    "\n",
    "df.select('request_address').show(5, False)"
   ]
  },
  {
   "cell_type": "code",
   "execution_count": 45,
   "id": "97d3c0df-fd0f-47d8-96aa-6593c52dd55a",
   "metadata": {},
   "outputs": [],
   "source": [
    "#padd 0's for council district\n",
    "df = df.withColumn('council_district', format_string('%03d', col('council_district').cast('int')))"
   ]
  },
  {
   "cell_type": "code",
   "execution_count": 46,
   "id": "18e3b05f-774c-431c-9273-ca31bfef682d",
   "metadata": {},
   "outputs": [
    {
     "name": "stdout",
     "output_type": "stream",
     "text": [
      "+-------+\n",
      "|zipcode|\n",
      "+-------+\n",
      "|  78207|\n",
      "|  78223|\n",
      "|  78223|\n",
      "|  78223|\n",
      "|  78228|\n",
      "+-------+\n",
      "only showing top 5 rows\n",
      "\n"
     ]
    }
   ],
   "source": [
    "#add zipcode\n",
    "\n",
    "df = df.withColumn('zipcode', regexp_extract('request_address', r\"(\\d+$)\", 1))\n",
    "\n",
    "df.select('zipcode').show(5)"
   ]
  },
  {
   "cell_type": "code",
   "execution_count": 47,
   "id": "58e5ca0d-9b3a-496d-9406-5606c73e1c70",
   "metadata": {},
   "outputs": [],
   "source": [
    "#create three new columns 'case_age', 'days_to_closed', 'case_lifetime'\n",
    "\n",
    "df = (\n",
    "    df.withColumn(\n",
    "        \"case_age\", datediff(current_timestamp(), \"case_opened_date\")\n",
    "    )\n",
    "    .withColumn(\n",
    "        \"days_to_closed\", datediff(\"case_closed_date\", \"case_opened_date\")\n",
    "    )\n",
    "    .withColumn(\n",
    "        \"case_lifetime\",\n",
    "        when(expr(\"! case_closed\"), col(\"case_age\")).otherwise(\n",
    "            col(\"days_to_closed\")\n",
    "        ),\n",
    "    )\n",
    ")\n"
   ]
  },
  {
   "cell_type": "code",
   "execution_count": 48,
   "id": "05bd4729-6916-4058-acee-741788bdcdea",
   "metadata": {},
   "outputs": [
    {
     "name": "stdout",
     "output_type": "stream",
     "text": [
      "+-------------+\n",
      "|case_lifetime|\n",
      "+-------------+\n",
      "|            0|\n",
      "|            2|\n",
      "|            1|\n",
      "+-------------+\n",
      "only showing top 3 rows\n",
      "\n"
     ]
    }
   ],
   "source": [
    "df.select(expr('CASE WHEN case_closed == False THEN case_age ELSE days_to_closed END').alias('case_lifetime')).show(3)"
   ]
  },
  {
   "cell_type": "code",
   "execution_count": 49,
   "id": "dcd63f0f-2127-4e88-84fb-e962e8c84e57",
   "metadata": {},
   "outputs": [],
   "source": [
    "# join the df and dept dataframe using 'dept_division' as common key\n",
    "# drop columns as needed (keep standardized_dept_name)\n",
    "# convert dept_subject_to_SLA to boolean\n",
    "\n",
    "df = (\n",
    "    df\n",
    "    # left join on dept_division\n",
    "    .join(dept, \"dept_division\", \"left\")\n",
    "    # drop all the columns except for standardized name, as it has much fewer unique values\n",
    "    .drop(dept.dept_division)\n",
    "    .drop(dept.dept_name)\n",
    "    .drop(df.dept_division)\n",
    "    .withColumnRenamed(\"standardized_dept_name\", \"department\")\n",
    "    # convert to a boolean\n",
    "    .withColumn(\"dept_subject_to_SLA\", col(\"dept_subject_to_SLA\") == \"YES\")\n",
    ")"
   ]
  },
  {
   "cell_type": "code",
   "execution_count": null,
   "id": "3ae464d2-f081-4eec-874d-2cb433a4b9a1",
   "metadata": {},
   "outputs": [],
   "source": []
  },
  {
   "cell_type": "code",
   "execution_count": 50,
   "id": "88e8f99b-9668-434f-9c30-97d98c7ced61",
   "metadata": {},
   "outputs": [],
   "source": [
    "#1. How old is the latest (in terms of days past SLA) \n",
    "#currently open issue? How long has the oldest (in terms of days since opened) currently opened issue been open?"
   ]
  },
  {
   "cell_type": "code",
   "execution_count": 59,
   "id": "27b26bff-9078-4b13-9e58-7a2e351871b4",
   "metadata": {},
   "outputs": [
    {
     "name": "stdout",
     "output_type": "stream",
     "text": [
      "-RECORD 0--------------------------------------------------------\n",
      " case_id              | 1013896575                               \n",
      " case_opened_date     | 2017-09-22 08:27:00                      \n",
      " case_closed_date     | null                                     \n",
      " case_due_date        | 2021-08-11 08:30:00                      \n",
      " case_late            | false                                    \n",
      " num_days_late        | -1318.354167                             \n",
      " case_closed          | false                                    \n",
      " service_request_type | Signal Timing Modification By Engineer   \n",
      " SLA_days             | 1419.00191                               \n",
      " case_status          | Open                                     \n",
      " source_id            | CRM_Listener                             \n",
      " request_address      | 4200  harry wurzbach, san antonio, 78209 \n",
      " council_district     | 010                                      \n",
      " zipcode              | 78209                                    \n",
      " case_age             | 1414                                     \n",
      " days_to_closed       | null                                     \n",
      " case_lifetime        | 1414                                     \n",
      " department           | Trans & Cap Improvements                 \n",
      " dept_subject_to_SLA  | true                                     \n",
      "only showing top 1 row\n",
      "\n"
     ]
    }
   ],
   "source": [
    "df.where(df.case_status == 'Open').orderBy(desc(df.SLA_days)).show(1, False, True)"
   ]
  },
  {
   "cell_type": "code",
   "execution_count": 64,
   "id": "49eb7a53-6e42-4045-894a-ce3e77550401",
   "metadata": {},
   "outputs": [],
   "source": [
    "#2 How many Stray Animal cases are there?"
   ]
  },
  {
   "cell_type": "code",
   "execution_count": 67,
   "id": "039296fb-e3cd-46b4-a01c-92007135e5e9",
   "metadata": {},
   "outputs": [
    {
     "data": {
      "text/plain": [
       "26760"
      ]
     },
     "execution_count": 67,
     "metadata": {},
     "output_type": "execute_result"
    }
   ],
   "source": [
    "df.where(df.service_request_type.contains('Stray Animal')).count()"
   ]
  },
  {
   "cell_type": "code",
   "execution_count": 69,
   "id": "91a468ad-4ef2-4de7-a8c5-cf3b4fb8316e",
   "metadata": {},
   "outputs": [],
   "source": [
    "#3 How many service requests that are assigned to the Field Operations department\n",
    "#(dept_division) are not classified as \"Officer Standby\" request type (service_request_type)?"
   ]
  },
  {
   "cell_type": "code",
   "execution_count": 101,
   "id": "74a81c7a-3a5f-4c9b-81c6-e28116a94da5",
   "metadata": {},
   "outputs": [
    {
     "data": {
      "text/plain": [
       "0"
      ]
     },
     "execution_count": 101,
     "metadata": {},
     "output_type": "execute_result"
    }
   ],
   "source": [
    "df.filter((df.department == 'Field Operations') & (df.service_request_type != 'Officer Standby' )).count()"
   ]
  },
  {
   "cell_type": "code",
   "execution_count": 80,
   "id": "25db75b1-3c84-435f-9cd9-ee4d2e719449",
   "metadata": {},
   "outputs": [],
   "source": [
    "#4 Convert the council_district column to a string column.\n",
    "df = df.withColumn('council_district', col('council_district').cast('string'))"
   ]
  },
  {
   "cell_type": "code",
   "execution_count": 122,
   "id": "2d2b1140-dbc4-4c04-b9ac-754f6aa26140",
   "metadata": {},
   "outputs": [],
   "source": [
    "#5 Extract the year from the case_closed_date column.\n",
    "df = df.withColumn('case_closed_year', year(col('case_closed_date')))"
   ]
  },
  {
   "cell_type": "code",
   "execution_count": 126,
   "id": "94bdf2cc-55e5-4e56-b55e-a68e849af87d",
   "metadata": {},
   "outputs": [
    {
     "name": "stdout",
     "output_type": "stream",
     "text": [
      "-RECORD 0----------------------------------------------------\n",
      " case_id              | 1014127332                           \n",
      " case_opened_date     | 2018-01-01 00:42:00                  \n",
      " case_closed_date     | 2018-01-01 12:29:00                  \n",
      " case_due_date        | 2020-09-26 00:42:00                  \n",
      " case_late            | false                                \n",
      " num_days_late        | -998.5087616000001                   \n",
      " case_closed          | true                                 \n",
      " service_request_type | Stray Animal                         \n",
      " SLA_days             | 999.0                                \n",
      " case_status          | Closed                               \n",
      " source_id            | svcCRMLS                             \n",
      " request_address      | 2315  el paso st, san antonio, 78207 \n",
      " council_district     | 005                                  \n",
      " zipcode              | 78207                                \n",
      " case_age             | 1313                                 \n",
      " days_to_closed       | 0                                    \n",
      " case_lifetime        | 0                                    \n",
      " department           | Animal Care Services                 \n",
      " dept_subject_to_SLA  | true                                 \n",
      " case_closed_year     | 2018                                 \n",
      "only showing top 1 row\n",
      "\n"
     ]
    }
   ],
   "source": [
    "df.show(1,False, True)"
   ]
  },
  {
   "cell_type": "code",
   "execution_count": 130,
   "id": "f0c5496f-e513-4a23-820a-ec4e9b7c10ae",
   "metadata": {},
   "outputs": [],
   "source": [
    "#6 Convert num_days_late from days to hours in new columns num_hours_late\n",
    "df = df.withColumn('num_hours_late', (col('num_days_late') * 24))"
   ]
  },
  {
   "cell_type": "raw",
   "id": "23cfe8d7-c484-428a-ab8b-e76fb52b6d0b",
   "metadata": {},
   "source": [
    "#7 Done in prep\n",
    "'''\n",
    "df = (\n",
    "    df\n",
    "    # left join on dept_division\n",
    "    .join(dept, \"dept_division\", \"left\")\n",
    "    # drop all the columns except for standardized name, as it has much fewer unique values\n",
    "    .drop(dept.dept_division)\n",
    "    .drop(dept.dept_name)\n",
    "    .drop(df.dept_division)\n",
    "    .withColumnRenamed(\"standardized_dept_name\", \"department\")\n",
    "    # convert to a boolean\n",
    "    .withColumn(\"dept_subject_to_SLA\", col(\"dept_subject_to_SLA\") == \"YES\")\n",
    ")\n",
    "'''"
   ]
  },
  {
   "cell_type": "code",
   "execution_count": 200,
   "id": "82758b6c-1cfb-417e-b23f-dd7c78b0aba6",
   "metadata": {},
   "outputs": [],
   "source": [
    "#8 Are there any cases that do not have a request source\n",
    "value_counts = df.groupBy(col(\"source_id\")).count().orderBy(desc(col('count')))"
   ]
  },
  {
   "cell_type": "code",
   "execution_count": 205,
   "id": "1f54beac-8f11-4264-a67d-0355bb12391d",
   "metadata": {},
   "outputs": [
    {
     "name": "stdout",
     "output_type": "stream",
     "text": [
      "+------------+------+\n",
      "|   source_id| count|\n",
      "+------------+------+\n",
      "|CRM_Listener|195416|\n",
      "|    svcCRMSS|113585|\n",
      "|     me05816| 19840|\n",
      "|     NO10960| 19832|\n",
      "|     mt13131| 19570|\n",
      "|      139344| 19238|\n",
      "|      138793| 18735|\n",
      "|    svcCRMLS| 18445|\n",
      "|     DS15677| 18103|\n",
      "|     gp20685| 17556|\n",
      "|      140508| 17506|\n",
      "|      139342| 17492|\n",
      "|     ns16326| 17234|\n",
      "|      138810| 16173|\n",
      "|     mp21218| 15817|\n",
      "|     mc21309| 15747|\n",
      "|     ss21394| 15607|\n",
      "|     jw10936| 15088|\n",
      "|     yc16753| 15080|\n",
      "|      139345| 14984|\n",
      "|     dc12381| 14955|\n",
      "|      140436| 14044|\n",
      "|      138650| 13565|\n",
      "|     dl05036| 13481|\n",
      "|     ss09159| 13076|\n",
      "|     rs16746| 11111|\n",
      "|     MW16328| 11010|\n",
      "|      119555| 10656|\n",
      "|      124405| 10651|\n",
      "|      139868| 10301|\n",
      "|      135723|  9590|\n",
      "|      120752|  9191|\n",
      "|     mt23152|  7452|\n",
      "|      141239|  7407|\n",
      "|      140987|  5530|\n",
      "|     VM16785|  4009|\n",
      "|      142738|  3913|\n",
      "|     cc17850|  3909|\n",
      "|      136979|  3859|\n",
      "|      136202|  3640|\n",
      "|      141549|  3125|\n",
      "|      137943|  3016|\n",
      "|      142989|  2827|\n",
      "|      119403|  2806|\n",
      "|     vb22265|  2021|\n",
      "|     sg22264|  1841|\n",
      "|      119868|  1833|\n",
      "|      140509|  1705|\n",
      "|      141241|  1654|\n",
      "|      142659|  1557|\n",
      "|      143098|  1352|\n",
      "|      132408|  1289|\n",
      "|      103582|  1212|\n",
      "|      143155|  1141|\n",
      "|      142088|   875|\n",
      "|      142087|   843|\n",
      "|      143525|   777|\n",
      "|      143526|   730|\n",
      "|      143522|   728|\n",
      "|    svcCFlag|   673|\n",
      "|     sv24848|   492|\n",
      "|      140991|   478|\n",
      "|     rb05270|   437|\n",
      "|      142991|   373|\n",
      "|      140507|   367|\n",
      "|      141256|   327|\n",
      "|      140992|   300|\n",
      "|      143900|   296|\n",
      "|     eg16317|   251|\n",
      "|      100137|   251|\n",
      "|     ld04403|   226|\n",
      "|     ps01944|   213|\n",
      "|      143899|   200|\n",
      "|      140637|   186|\n",
      "|     DG26131|   182|\n",
      "|      138605|   154|\n",
      "|     MB16118|   152|\n",
      "|     ts15690|   146|\n",
      "|      143519|   140|\n",
      "|     RG26608|   138|\n",
      "|      141240|   133|\n",
      "|      106463|   130|\n",
      "|     sp26368|   124|\n",
      "|     GG26118|   119|\n",
      "|     js12254|    99|\n",
      "|     sw26367|    95|\n",
      "|     mp26640|    93|\n",
      "|     bn26322|    89|\n",
      "|      143520|    85|\n",
      "|     co26320|    85|\n",
      "|     gg14829|    78|\n",
      "|     em25724|    70|\n",
      "|     mt26294|    64|\n",
      "|     dd26293|    57|\n",
      "|     ru26699|    45|\n",
      "|     dv26072|    45|\n",
      "|     JB26299|    43|\n",
      "|     FC24472|    43|\n",
      "|     jg06389|    42|\n",
      "|     FR26584|    34|\n",
      "|     ih24384|    33|\n",
      "|     af26445|    33|\n",
      "|     CV24443|    29|\n",
      "|      142673|    27|\n",
      "|      141752|    27|\n",
      "|     yh24110|    21|\n",
      "|     BM26349|    20|\n",
      "|     at25553|    19|\n",
      "|     mg26820|    19|\n",
      "|     np26458|    18|\n",
      "|     dl09223|    18|\n",
      "|     ls26247|    17|\n",
      "|     df03076|    17|\n",
      "|      143245|    13|\n",
      "|     BA10591|    12|\n",
      "|     bo26471|    11|\n",
      "|     cb26321|    10|\n",
      "|     lg26383|     9|\n",
      "|     CG13106|     8|\n",
      "|     WT26601|     7|\n",
      "|     ba26670|     7|\n",
      "|     ES26219|     6|\n",
      "|     vk26526|     6|\n",
      "|     ss26317|     5|\n",
      "|     js26451|     3|\n",
      "|     RO15681|     3|\n",
      "|     lb07325|     3|\n",
      "|     sg26196|     2|\n",
      "|     gg02947|     2|\n",
      "|     EP17503|     2|\n",
      "|     ag19640|     2|\n",
      "|      139807|     2|\n",
      "|     DB26553|     2|\n",
      "|     ec25702|     1|\n",
      "|     SG26340|     1|\n",
      "|     MR25792|     1|\n",
      "|     lb24838|     1|\n",
      "|      141954|     1|\n",
      "|     cm26202|     1|\n",
      "+------------+------+\n",
      "\n"
     ]
    }
   ],
   "source": [
    "#Value counts does not mention null or blank anywhere\n",
    "value_counts.show(139)"
   ]
  },
  {
   "cell_type": "code",
   "execution_count": 197,
   "id": "24aba539-8510-441f-b97c-e590b1d7e501",
   "metadata": {},
   "outputs": [],
   "source": [
    "#9 What are the top 10 service request types in terms of number of requests?\n",
    "value_counts = df.groupBy(col(\"service_request_type\")).count().orderBy(desc(col('count')))"
   ]
  },
  {
   "cell_type": "code",
   "execution_count": 198,
   "id": "c7650149-a9b9-4b29-94c7-326b48c26d61",
   "metadata": {},
   "outputs": [
    {
     "name": "stdout",
     "output_type": "stream",
     "text": [
      "+--------------------+-----+\n",
      "|service_request_type|count|\n",
      "+--------------------+-----+\n",
      "|           No Pickup|86855|\n",
      "|Overgrown Yard/Trash|65895|\n",
      "|        Bandit Signs|32910|\n",
      "|        Damaged Cart|30338|\n",
      "|Front Or Side Yar...|28794|\n",
      "|        Stray Animal|26760|\n",
      "|Aggressive Animal...|24882|\n",
      "|Cart Exchange Req...|22024|\n",
      "|Junk Vehicle On P...|21473|\n",
      "|     Pot Hole Repair|20616|\n",
      "+--------------------+-----+\n",
      "only showing top 10 rows\n",
      "\n"
     ]
    }
   ],
   "source": [
    "value_counts.show(10)"
   ]
  },
  {
   "cell_type": "code",
   "execution_count": 218,
   "id": "132b43eb-8092-4565-8025-158e55ec886c",
   "metadata": {},
   "outputs": [
    {
     "name": "stdout",
     "output_type": "stream",
     "text": [
      "+--------------------------------------+------------------+\n",
      "|service_request_type                  |avg(num_days_late)|\n",
      "+--------------------------------------+------------------+\n",
      "|Zoning: Recycle Yard                  |210.89201994318182|\n",
      "|Zoning: Junk Yards                    |200.20517608494276|\n",
      "|Structure/Housing Maintenance         |190.20707698509807|\n",
      "|Donation Container Enforcement        |171.09115313942615|\n",
      "|Storage of Used Mattress              |163.96812829714287|\n",
      "|Labeling for Used Mattress            |162.43032902285717|\n",
      "|Record Keeping of Used Mattresses     |153.99724039428568|\n",
      "|Signage Requied for Sale of Used Mattr|151.63868055333333|\n",
      "|Traffic Signal Graffiti               |137.64583330000002|\n",
      "|License Requied Used Mattress Sales   |128.79828704142858|\n",
      "+--------------------------------------+------------------+\n",
      "only showing top 10 rows\n",
      "\n"
     ]
    }
   ],
   "source": [
    "#10 what are the top 10 service request types in terms of average days late?\n",
    "df.where('case_late==\"YES\"').groupBy('service_request_type').agg(mean('num_days_late')).sort(desc('avg(num_days_late)')).show(10, False)"
   ]
  },
  {
   "cell_type": "code",
   "execution_count": 226,
   "id": "0e96920c-f55f-4e69-9658-9b96ad94cfca",
   "metadata": {},
   "outputs": [
    {
     "name": "stdout",
     "output_type": "stream",
     "text": [
      "+------------------------+------------------+\n",
      "|department              |avg(num_days_late)|\n",
      "+------------------------+------------------+\n",
      "|Customer Service        |87.68385942150394 |\n",
      "|DSD/Code Enforcement    |49.38428705358908 |\n",
      "|Animal Care Services    |23.458633245820124|\n",
      "|Parks & Recreation      |22.348910457867518|\n",
      "|Trans & Cap Improvements|10.603064680316946|\n",
      "|Solid Waste             |7.186821906120899 |\n",
      "|Metro Health            |6.5438133155476494|\n",
      "+------------------------+------------------+\n",
      "\n"
     ]
    }
   ],
   "source": [
    "#11 Does number of days late depend on department?\n",
    "df.select('*').where('case_late==\"YES\"').groupBy('department').agg(mean('num_days_late')).sort(desc('avg(num_days_late)')).show(20, False)"
   ]
  },
  {
   "cell_type": "code",
   "execution_count": 233,
   "id": "d7b9e852-b7bd-4b86-8f79-c1e2f6711ee0",
   "metadata": {},
   "outputs": [
    {
     "name": "stdout",
     "output_type": "stream",
     "text": [
      "+------------------------+-----------------------------------------------+-------------------+\n",
      "|department              |service_request_type                           |avg(num_days_late) |\n",
      "+------------------------+-----------------------------------------------+-------------------+\n",
      "|DSD/Code Enforcement    |Zoning: Recycle Yard                           |210.89201994318182 |\n",
      "|DSD/Code Enforcement    |Zoning: Junk Yards                             |200.20517608494276 |\n",
      "|DSD/Code Enforcement    |Structure/Housing Maintenance                  |190.20707698509807 |\n",
      "|DSD/Code Enforcement    |Donation Container Enforcement                 |171.09115313942615 |\n",
      "|DSD/Code Enforcement    |Storage of Used Mattress                       |163.96812829714287 |\n",
      "|DSD/Code Enforcement    |Labeling for Used Mattress                     |162.43032902285717 |\n",
      "|DSD/Code Enforcement    |Record Keeping of Used Mattresses              |153.99724039428568 |\n",
      "|DSD/Code Enforcement    |Signage Requied for Sale of Used Mattr         |151.63868055333333 |\n",
      "|Trans & Cap Improvements|Traffic Signal Graffiti                        |137.64583330000002 |\n",
      "|DSD/Code Enforcement    |License Requied Used Mattress Sales            |128.79828704142858 |\n",
      "|DSD/Code Enforcement    |Curbstoning                                    |120.39566479917886 |\n",
      "|DSD/Code Enforcement    |Vendors                                        |117.72551367776335 |\n",
      "|DSD/Code Enforcement    |CPS Energy Wood Poles                          |115.18708329999998 |\n",
      "|DSD/Code Enforcement    |Graffiti: Private Property (Corridors)         |114.09439580800002 |\n",
      "|DSD/Code Enforcement    |Used Mattress Inspection                       |108.14074724718749 |\n",
      "|DSD/Code Enforcement    |DSDB Ordered/Hold Harmless/Regular: Main       |94.9029600898138   |\n",
      "|DSD/Code Enforcement    |DSDB Ordered/Hold Harmless/Regular-ALL         |90.60137650743478  |\n",
      "|DSD/Code Enforcement    |DSDB Ordered/Hold Harmless/Regular: ASEC       |88.67873591760812  |\n",
      "|Customer Service        |Complaint                                      |87.74197415340986  |\n",
      "|DSD/Code Enforcement    |Zoning: Setbacks                               |86.72783777095414  |\n",
      "|DSD/Code Enforcement    |Dart Preliminary Inspection                    |85.06190586980954  |\n",
      "|DSD/Code Enforcement    |Vacant Lot: Over 12\"\"                          |82.08825231        |\n",
      "|DSD/Code Enforcement    |Permits Building                               |81.08045565537573  |\n",
      "|DSD/Code Enforcement    |Street Light New Development                   |80.91673396907407  |\n",
      "|DSD/Code Enforcement    |No Address Posted                              |79.4926581827068   |\n",
      "|DSD/Code Enforcement    |Low Hanging Limbs on Streets/Sidewalk          |78.07437152269999  |\n",
      "|Customer Service        |Compliment                                     |78.00775655916665  |\n",
      "|DSD/Code Enforcement    |Certificates of Occupancy                      |77.62671183098276  |\n",
      "|Parks & Recreation      |Amenity Park Improvement                       |76.87018194568     |\n",
      "|DSD/Code Enforcement    |Wasting Water (Leaks)                          |76.3554676         |\n",
      "|Trans & Cap Improvements|Status: On-Going CIMS Projects                 |76.07892152387127  |\n",
      "|Parks & Recreation      |Major Park Improvement Install                 |75.79450367282354  |\n",
      "|DSD/Code Enforcement    |Dumpsters: Maintenance/Sanitation              |74.15533508843903  |\n",
      "|DSD/Code Enforcement    |\"Vacant Lot-State (12\"\")\"                      |72.08425347        |\n",
      "|DSD/Code Enforcement    |Zoning: District Requirement                   |70.6059230737488   |\n",
      "|Animal Care Services    |Public Nuisance(Own Animal)                    |70.59049373844732  |\n",
      "|DSD/Code Enforcement    |Bandit Signs                                   |70.56175559550488  |\n",
      "|Animal Care Services    |Animal Permits Request                         |70.55085006261557  |\n",
      "|DSD/Code Enforcement    |Used/Scrap Tire Facility Periodic Inspection   |69.78109578045945  |\n",
      "|DSD/Code Enforcement    |Discharge Into Pub. Waters/St                  |69.25717593        |\n",
      "|DSD/Code Enforcement    |Improper Storage of Tires/At Facility          |69.2234382194375   |\n",
      "|DSD/Code Enforcement    |Zoning: Outside Storage                        |68.61202789542104  |\n",
      "|DSD/Code Enforcement    |Street Light Existing Res Sub Div              |66.85450799247805  |\n",
      "|DSD/Code Enforcement    |Zoning: Multi-Family In Single                 |66.80722948439215  |\n",
      "|Parks & Recreation      |Reservation Assistance                         |66.03116319        |\n",
      "|DSD/Code Enforcement    |Zoning Business in Resident Area               |63.99158564644248  |\n",
      "|Trans & Cap Improvements|Markings Installation SMO (NEW)                |62.24574940750001  |\n",
      "|Solid Waste             |Contracted Service Issues                      |62.05046402263636  |\n",
      "|DSD/Code Enforcement    |Water No Services                              |59.51258018821428  |\n",
      "|Parks & Recreation      |Park Building Maint Invest                     |59.367469802695666 |\n",
      "|DSD/Code Enforcement    |Minimum Housing-Owner Occupied                 |57.92188852771554  |\n",
      "|DSD/Code Enforcement    |Boarding Home Inspection                       |57.8440027366      |\n",
      "|DSD/Code Enforcement    |Graffiti-Private Property                      |56.977743062833326 |\n",
      "|DSD/Code Enforcement    |Historical Building (No Permits)               |56.75463107125     |\n",
      "|DSD/Code Enforcement    |Dang Premises/Secure Only                      |55.727010269       |\n",
      "|DSD/Code Enforcement    |Zoning: Visual Obstruction                     |55.5964300737907   |\n",
      "|DSD/Code Enforcement    |Junk Vehicle On Private Property               |53.62683109281785  |\n",
      "|DSD/Code Enforcement    |Graffiti: Vacant (Commercial)                  |52.594780093333334 |\n",
      "|DSD/Code Enforcement    |Junk Vehicle - Wrecked or Dismantled           |52.08946448717074  |\n",
      "|Parks & Recreation      |Sportfield Lighting                            |51.480049793645534 |\n",
      "|DSD/Code Enforcement    |Zoning: Mobile Homes                           |49.1692772004      |\n",
      "|DSD/Code Enforcement    |Minimum Housing-Tenant Occupied                |48.435228679442105 |\n",
      "|DSD/Code Enforcement    |Overgrown Yard/Trash                           |44.856317751084305 |\n",
      "|Metro Health            |Sanitary Conditions                            |44.374958048124995 |\n",
      "|DSD/Code Enforcement    |Used/Scrap Tire Facility License Pending       |43.90779250713637  |\n",
      "|DSD/Code Enforcement    |Brush Violations                               |43.87700744751887  |\n",
      "|Parks & Recreation      |Electrical                                     |42.951971658345116 |\n",
      "|DSD/Code Enforcement    |Permits, Fences                                |42.726547859582084 |\n",
      "|DSD/Code Enforcement    |Zoning: Illumination                           |41.7705833328      |\n",
      "|DSD/Code Enforcement    |Whole Scrap Tires Not Marked                   |41.5605555626      |\n",
      "|DSD/Code Enforcement    |Emergency: Main and Accessory Structures       |41.48484592187501  |\n",
      "|DSD/Code Enforcement    |Dang. Premises/CL/SEC                          |41.254598450653056 |\n",
      "|Trans & Cap Improvements|Guardrail- New Request                         |41.06460648        |\n",
      "|Parks & Recreation      |Tree Removal                                   |40.28404224560715  |\n",
      "|DSD/Code Enforcement    |Alley-Way Maintenance                          |40.14392301190415  |\n",
      "|DSD/Code Enforcement    |\"Vacant Lot-City (12\"\")\"                       |39.764264469850005 |\n",
      "|DSD/Code Enforcement    |Lot-Private (1000)                             |38.881535014187506 |\n",
      "|Parks & Recreation      |Landscape Maintenance                          |38.86797941326316  |\n",
      "|Parks & Recreation      |Heavy Equipment                                |38.56625730831579  |\n",
      "|DSD/Code Enforcement    |\"Vacant Lot-Private (12\"\")\"                    |38.179924606329614 |\n",
      "|Solid Waste             |Service Information                            |38.177857316864    |\n",
      "|DSD/Code Enforcement    |\"Vacant Lot-County (12\"\")\"                     |37.700333331799996 |\n",
      "|DSD/Code Enforcement    |Pooled Water (Mosquito Breed)                  |37.3747825685      |\n",
      "|Trans & Cap Improvements|Base/Pavement Repair                           |36.89760411902891  |\n",
      "|DSD/Code Enforcement    |Sewer Line Broken                              |34.0461307881      |\n",
      "|DSD/Code Enforcement    |Vacant Lot: Within 1000 School/Day Care        |34.00880787        |\n",
      "|Parks & Recreation      |Miscellaneous Park Equipment                   |33.62472491253488  |\n",
      "|DSD/Code Enforcement    |Dead Trees: Private Property                   |32.421906130551726 |\n",
      "|DSD/Code Enforcement    |Vacant House Overgrown Yard                    |32.367429918625    |\n",
      "|DSD/Code Enforcement    |Vacant Lot/Overgrown/Trash                     |32.231400044325795 |\n",
      "|DSD/Code Enforcement    |\"Vacant Lot-City (48\"\")\"                       |30.868318865       |\n",
      "|Parks & Recreation      |Tree Trimming/Maintenance                      |30.702768979017545 |\n",
      "|Trans & Cap Improvements|Speed Hump Repairs - Emergency                 |30.560072323307324 |\n",
      "|DSD/Code Enforcement    |Improper Rec Keeping-Used/Scrap Tire Fac       |30.445810184857145 |\n",
      "|Animal Care Services    |Aggressive Animal(Non-Critical)                |30.077902423477003 |\n",
      "|Animal Care Services    |Animal Neglect                                 |29.870833535986    |\n",
      "|DSD/Code Enforcement    |Swim. Pool Inspect: Residential                |29.532866510666665 |\n",
      "|DSD/Code Enforcement    |Dang Premises/Cut/Clean Only                   |29.162591701153847 |\n",
      "|Solid Waste             |Organics Info / Literature Request             |28.924804929364736 |\n",
      "|Parks & Recreation      |General Building Maintenance                   |28.192905974561906 |\n",
      "|Parks & Recreation      |Masonry                                        |27.989420392890622 |\n",
      "|DSD/Code Enforcement    |Zoning: Oversized Vehicles                     |27.572057543157552 |\n",
      "|Trans & Cap Improvements|Garbage PU Alley Maintenance                   |27.382440475428574 |\n",
      "|Solid Waste             |Solid Waste Fees and Charges                   |26.15629165784158  |\n",
      "|DSD/Code Enforcement    |Graffiti: Sidewalk                             |26.113246188411768 |\n",
      "|Parks & Recreation      |Painting                                       |25.404551756282608 |\n",
      "|Trans & Cap Improvements|Water Ponding or Standing                      |25.277715568968752 |\n",
      "|DSD/Code Enforcement    |Graffiti: Building                             |24.681820444538207 |\n",
      "|DSD/Code Enforcement    |\"Vacant Lot-County (48\"\")\"                     |24.03947917        |\n",
      "|DSD/Code Enforcement    |Graffiti: Traffic Control Box                  |23.82376133304166  |\n",
      "|Trans & Cap Improvements|All-Way Stop Study                             |23.376437389285712 |\n",
      "|DSD/Code Enforcement    |\"Vacant Lot-Private (48\"\")\"                    |22.796820783842108 |\n",
      "|Trans & Cap Improvements|Speed Hump Repairs                             |22.692905702842104 |\n",
      "|DSD/Code Enforcement    |Emergency: Main Structure Only                 |22.410301888583334 |\n",
      "|Parks & Recreation      |Sign Maintenance                               |22.281778663588234 |\n",
      "|DSD/Code Enforcement    |Emergency: Accessory Structure Only            |21.566118056200004 |\n",
      "|Animal Care Services    |Aggressive Animal(Critical)                    |21.462057182311593 |\n",
      "|DSD/Code Enforcement    |Graffiti: Fence                                |20.530925926118538 |\n",
      "|Parks & Recreation      |Fence/Gate Repair                              |20.366796601056603 |\n",
      "|DSD/Code Enforcement    |Basketball Goals on R.O.W.                     |20.006472470022135 |\n",
      "|DSD/Code Enforcement    |Graffiti: Drainage Channel                     |19.973799108607476 |\n",
      "|Trans & Cap Improvements|Manhole Sunken/Raised                          |19.8322314816      |\n",
      "|DSD/Code Enforcement    |Multi Tenant Interior                          |19.756423615       |\n",
      "|Parks & Recreation      |Small Equipment Repair                         |19.644149305       |\n",
      "|Parks & Recreation      |Pools                                          |19.489430630709677 |\n",
      "|Trans & Cap Improvements|Pavement Marking Changes                       |19.4890347226      |\n",
      "|DSD/Code Enforcement    |Graffiti: Retaining Wall                       |19.309266321564973 |\n",
      "|Solid Waste             |Recycling - No Pick Up                         |19.119742548439024 |\n",
      "|DSD/Code Enforcement    |Garage Sales No Permit                         |19.038531043130426 |\n",
      "|Trans & Cap Improvements|Traffic Signal Ops and Maintenance             |18.775019013714285 |\n",
      "|Parks & Recreation      |Plumbing                                       |18.621826175298462 |\n",
      "|Solid Waste             |Disability Service Requested                   |18.56621077140487  |\n",
      "|Parks & Recreation      |Plumbing/Drinking Fountain/Sprinklers          |18.18076193409091  |\n",
      "|Parks & Recreation      |Irrigation                                     |17.58814428966667  |\n",
      "|Trans & Cap Improvements|Sign Fabrication - Internal                    |17.046521991166667 |\n",
      "|Trans & Cap Improvements|Shoulder Repair                                |16.943385416666665 |\n",
      "|Trans & Cap Improvements|Speed Hump Request                             |16.777002313       |\n",
      "|Solid Waste             |Storm Damage                                   |16.571383376666663 |\n",
      "|DSD/Code Enforcement    |Solid Waste Insp: Dead Animals                 |16.525377937384615 |\n",
      "|Solid Waste             |Cart Placement                                 |16.388442418530534 |\n",
      "|DSD/Code Enforcement    |Graffiti: Curb                                 |16.156891533       |\n",
      "|Trans & Cap Improvements|Traffic Signal New Request                     |16.078495370615382 |\n",
      "|DSD/Code Enforcement    |Right Of Way/Sidewalk Obstruction              |16.005284315730805 |\n",
      "|Parks & Recreation      |Fencing                                        |15.664453468033898 |\n",
      "|DSD/Code Enforcement    |Graffiti Public Property                       |15.65655824561081  |\n",
      "|Trans & Cap Improvements|School Flashers- New request                   |15.4444212945      |\n",
      "|Parks & Recreation      |Heating and Air Conditioning                   |15.376614913757145 |\n",
      "|Parks & Recreation      |Signs                                          |15.306444405203388 |\n",
      "|Trans & Cap Improvements|Sidewalk Cost Sharing Program                  |14.628967014499999 |\n",
      "|Solid Waste             |Organics No Pickup                             |14.507717912241379 |\n",
      "|DSD/Code Enforcement    |Front Or Side Yard Parking                     |14.157497425708751 |\n",
      "|Parks & Recreation      |Carpentry                                      |14.14768626942419  |\n",
      "|Metro Health            |Pests                                          |13.893718639596772 |\n",
      "|Parks & Recreation      |Trail/Greenway Maintenance                     |13.450237682142857 |\n",
      "|Solid Waste             |Automation Property Damage                     |13.395038678905982 |\n",
      "|Solid Waste             |Solid Waste - Miscellaneous                    |13.22888506561607  |\n",
      "|Parks & Recreation      |Outdoor Athletic Court/Field Maint             |13.078582820074073 |\n",
      "|Solid Waste             |Alley Problems                                 |12.985345507777776 |\n",
      "|Trans & Cap Improvements|Street/Drainage Problem Investigation          |12.697097802750001 |\n",
      "|Trans & Cap Improvements|Signal Timing Modification                     |12.487220568928572 |\n",
      "|Trans & Cap Improvements|Dead End/No Outlet Sign Request                |12.359953703555556 |\n",
      "|DSD/Code Enforcement    |Alley Address Required                         |11.8344213         |\n",
      "|DSD/Code Enforcement    |Vehicle Blocking                               |11.66791464491667  |\n",
      "|Parks & Recreation      |Pool Maintenance                               |10.8618798225      |\n",
      "|Trans & Cap Improvements|Curb or Sidewalk Investigation                 |10.384255813916663 |\n",
      "|DSD/Code Enforcement    |Dumpsters: City R.O.W.                         |10.185125553695652 |\n",
      "|Solid Waste             |Bulk Partial Pick Up                           |10.138635802000001 |\n",
      "|Metro Health            |Hygienic Practices                             |9.793239582614286  |\n",
      "|Solid Waste             |Request for Commercial Service                 |9.554595675417062  |\n",
      "|Solid Waste             |Bulk-non Compliance Notice                     |9.320306268307691  |\n",
      "|Parks & Recreation      |Darner Maintenance                             |9.310824074699998  |\n",
      "|Animal Care Services    |City Council Animal Request                    |9.256772641875     |\n",
      "|Metro Health            |Food Borne Illness                             |9.162449074        |\n",
      "|Trans & Cap Improvements|Sign - No Thru Truck - New Request             |9.084374999666666  |\n",
      "|Parks & Recreation      |Lake/Pond Maintenance                          |8.434912367428572  |\n",
      "|Solid Waste             |Scattered Material                             |8.229263671829166  |\n",
      "|Metro Health            |Public Right of Way                            |7.86384499683575   |\n",
      "|Solid Waste             |3rd Call Bagged Leaves with Fee                |7.757505787666666  |\n",
      "|Metro Health            |Food Source                                    |7.311149693333333  |\n",
      "|Trans & Cap Improvements|Driveways -Adjust                              |7.198996913666669  |\n",
      "|Solid Waste             |Brush-non Compliance Notice                    |7.194541377708333  |\n",
      "|Metro Health            |Public/Semi-Public Pools/Spas                  |7.1876980454999995 |\n",
      "|Trans & Cap Improvements|Parking Issue                                  |7.166368312555556  |\n",
      "|Trans & Cap Improvements|Initiating Unknown Project Investigation       |7.093672068293936  |\n",
      "|Trans & Cap Improvements|Pavers Broken/Missing                          |7.0871932865       |\n",
      "|DSD/Code Enforcement    |Fly Breeding and Animal Waste Disposal         |7.040374228666667  |\n",
      "|Trans & Cap Improvements|Speed Hump Set Missing                         |6.881233796000001  |\n",
      "|Parks & Recreation      |Brush/Debris Collection                        |6.36092223225532   |\n",
      "|Metro Health            |Food Contact Surfaces                          |6.12701930706383   |\n",
      "|Parks & Recreation      |Parks Mowing                                   |5.8807026145000005 |\n",
      "|Parks & Recreation      |Pressure Washing                               |5.632320601        |\n",
      "|Solid Waste             |1st Call Bagged Leaves                         |5.413281525556651  |\n",
      "|DSD/Code Enforcement    |Absentee Property Assessment-Posting           |5.291590277900001  |\n",
      "|Trans & Cap Improvements|Accident Problem Investigation                 |5.271858282555556  |\n",
      "|Parks & Recreation      |Welding                                        |5.261223279370369  |\n",
      "|Solid Waste             |Brush Missed Pick up                           |5.041803009269999  |\n",
      "|Animal Care Services    |Animal Bite(Non-Critical)                      |4.676201441082707  |\n",
      "|Solid Waste             |Bulk Missed Pick up                            |4.621264606154929  |\n",
      "|Trans & Cap Improvements|Traffic Issue Investigation                    |4.610674051952381  |\n",
      "|Metro Health            |Working without a License                      |4.593552000464285  |\n",
      "|Trans & Cap Improvements|Guard Rail/Guard Post Damage                   |4.557404665894736  |\n",
      "|Trans & Cap Improvements|Speed Limit Sign                               |4.530694444500001  |\n",
      "|Trans & Cap Improvements|School Sign New Request                        |4.5224971065       |\n",
      "|Metro Health            |Food Poisoning                                 |4.406485615357143  |\n",
      "|Solid Waste             |Brush Property Damage                          |4.362641461        |\n",
      "|Trans & Cap Improvements|Traffic Sign Graffiti                          |4.345709683116667  |\n",
      "|Solid Waste             |Brush Partial Pick Up                          |4.3417893524       |\n",
      "|Trans & Cap Improvements|Sign Installations SMO (NEW)                   |4.310457176000001  |\n",
      "|Solid Waste             |No Pickup                                      |4.169105870050456  |\n",
      "|DSD/Code Enforcement    |\"Vacant Lot-State (48\"\")\"                      |4.019363426        |\n",
      "|Trans & Cap Improvements|Stop Sign New Request                          |4.014822531333333  |\n",
      "|Solid Waste             |2nd Call Bagged Leaves                         |3.7028964119642858 |\n",
      "|Trans & Cap Improvements|On-Going PW Projects                           |3.6235379129459457 |\n",
      "|Parks & Recreation      |Portable Toilets                               |3.305633417772727  |\n",
      "|Parks & Recreation      |Graffiti                                       |3.3019126984761904 |\n",
      "|Solid Waste             |Dead Animal - Cat                              |3.2830354940666666 |\n",
      "|Solid Waste             |Cart Delivery                                  |3.2575642119413235 |\n",
      "|DSD/Code Enforcement    |Graffiti: Guardrail                            |3.235615079142857  |\n",
      "|Solid Waste             |Dead Animal - Dog                              |3.190950854653846  |\n",
      "|Metro Health            |License Renewal Invoice                        |3.0876621369770114 |\n",
      "|Trans & Cap Improvements|Traffic Sign Faded                             |2.958780737819672  |\n",
      "|DSD/Code Enforcement    |Wasting Water (General)                        |2.781689815        |\n",
      "|Parks & Recreation      |Outdoor Trash/Mutt Mitts                       |2.579570105857143  |\n",
      "|Parks & Recreation      |Graffiti Int                                   |2.5695044026823535 |\n",
      "|Trans & Cap Improvements|Traffic Sign Visual Obst.Vegetation/Stop/Yield |2.4553344135333335 |\n",
      "|Trans & Cap Improvements|Pavement Marking Investigation                 |2.452948097165138  |\n",
      "|Metro Health            |Ventilation                                    |2.4094675925000004 |\n",
      "|Solid Waste             |Illegal Dumping (Non- residential areas)       |2.3787967460143142 |\n",
      "|Parks & Recreation      |Indoor Janitorial Services                     |2.2758472222       |\n",
      "|Trans & Cap Improvements|Drainage Channel/Debris Removal                |2.266603905859155  |\n",
      "|Trans & Cap Improvements|Drainage Investigation                         |2.2089386575       |\n",
      "|Solid Waste             |Additional Garbage Container - with Fee        |2.201215927176847  |\n",
      "|Solid Waste             |Damaged Organics Cart                          |2.1622337959999998 |\n",
      "|Solid Waste             |Disability Assistance Missed Pickup            |2.0809026582469015 |\n",
      "|Solid Waste             |Dead Animal - Misc                             |2.047548926727273  |\n",
      "|Trans & Cap Improvements|Drainage Inlet Repair                          |2.0243297557272726 |\n",
      "|Solid Waste             |Brush / Bulky Miscellaneous                    |2.014284647596774  |\n",
      "|Trans & Cap Improvements|School Flashers Maintenance                    |1.9156693294509803 |\n",
      "|Solid Waste             |Organics Cart Removal                          |1.8836434220416667 |\n",
      "|Trans & Cap Improvements|Engineering Investigation                      |1.8333236883333335 |\n",
      "|Parks & Recreation      |Lake and Ponds Maintenance                     |1.828557961736842  |\n",
      "|Solid Waste             |Recycle Container removed from Service         |1.7752700613333332 |\n",
      "|Trans & Cap Improvements|Bicycle Lane/Route New Request                 |1.514811921375     |\n",
      "|Solid Waste             |Cart Exchange Request                          |1.465491120827561  |\n",
      "|Metro Health            |Smoking Ordinance                              |1.4509085645000002 |\n",
      "|Trans & Cap Improvements|Traffic Sign Missing/Down                      |1.414472970451178  |\n",
      "|Solid Waste             |Lost/Stolen Cart                               |1.376174091729216  |\n",
      "|Solid Waste             |Additional Cart Request                        |1.3122689462078523 |\n",
      "|Solid Waste             |Cart PickUp                                    |1.3095083568230022 |\n",
      "|Trans & Cap Improvements|Flashing Beacon New Request                    |1.296105324        |\n",
      "|Solid Waste             |Damaged Cart                                   |1.2446085672003353 |\n",
      "|Solid Waste             |Cart Pickup                                    |1.1996690930361447 |\n",
      "|Trans & Cap Improvements|Concrete Infrastructure Repair                 |1.1875862543809523 |\n",
      "|Trans & Cap Improvements|Street Sweeping                                |1.0950208333       |\n",
      "|Parks & Recreation      |Playground Maintenance                         |1.0692418982500003 |\n",
      "|Solid Waste             |Organics Property Damage                       |1.0628819440000001 |\n",
      "|Parks & Recreation      |Amenity Park Improvement Int                   |1.060590278        |\n",
      "|Trans & Cap Improvements|Traffic Signal Ops and Maintenance - Emergency |1.0227309554090909 |\n",
      "|Solid Waste             |Brush - Out of Cycle Collection - Fee Required |0.9906110230719426 |\n",
      "|Trans & Cap Improvements|Drainage Inlet - Cleaning/Foul Odor            |0.9565798609999999 |\n",
      "|Parks & Recreation      |Ballfields                                     |0.90739547153125   |\n",
      "|Trans & Cap Improvements|Drainage Channel Restoration                   |0.9034722222222222 |\n",
      "|Trans & Cap Improvements|Drainage Channel - Surface Investigation       |0.867649853736842  |\n",
      "|Solid Waste             |Recycling - Scattered Material                 |0.8492650465       |\n",
      "|Animal Care Services    |Trapped/Confined Animal                        |0.8454007340263343 |\n",
      "|Trans & Cap Improvements|Pot Hole Repair                                |0.8251838172705449 |\n",
      "|Solid Waste             |Organics Cart Delivery                         |0.8144566171724137 |\n",
      "|Trans & Cap Improvements|Stop/Yield Sign Down/Missing/Faded             |0.7630890656452705 |\n",
      "|Trans & Cap Improvements|Rebarb Sticking Out                            |0.7315625001250001 |\n",
      "|Trans & Cap Improvements|Removal Of Obstruction                         |0.7022110473793104 |\n",
      "|Parks & Recreation      |Playgrounds                                    |0.6938048941428572 |\n",
      "|Trans & Cap Improvements|Manhole or Inlet Cover Missing                 |0.6932763532307692 |\n",
      "|Solid Waste             |Garbage Out of Cycle Collection                |0.6451286007777779 |\n",
      "|Trans & Cap Improvements|Traffic Sign Visual Obst.Vegetation/Other Signs|0.642028034925926  |\n",
      "|Trans & Cap Improvements|Misc Sign - New Request                        |0.6401118828095237 |\n",
      "|Trans & Cap Improvements|Visual Obstruction Vegetation Signal           |0.6375057869999999 |\n",
      "|Trans & Cap Improvements|Drainage Channel - Emergency                   |0.47793518513333333|\n",
      "|Trans & Cap Improvements|Street Sweeping- Emergency                     |0.47217163925925926|\n",
      "|Trans & Cap Improvements|Vegetation- Visual Obstruction                 |0.46198881183333335|\n",
      "|Trans & Cap Improvements|Barricade                                      |0.443125000125     |\n",
      "|Trans & Cap Improvements|Tree- Visual Obstruction                       |0.4226412036999999 |\n",
      "|Solid Waste             |Cart removed from Service                      |0.33641435179999996|\n",
      "|Trans & Cap Improvements|Road Curvature/Visual Obstruction              |0.31084490724999997|\n",
      "|Trans & Cap Improvements|Street Debris                                  |0.2703611112       |\n",
      "|DSD/Code Enforcement    |Graffiti: Traffic Signal Pole                  |0.2381828705       |\n",
      "|Animal Care Services    |Animal Bite(Critical)                          |0.2025050064511628 |\n",
      "|Solid Waste             |Additional Organics Cart Request               |0.18775462966666667|\n",
      "|Animal Care Services    |Animal Cruelty(Critical)                       |0.17984613640979386|\n",
      "|Solid Waste             |Brush No Notice                                |0.1786574075       |\n",
      "|Solid Waste             |Lost / Stolen Organics Cart                    |0.16582754649999998|\n",
      "|Trans & Cap Improvements|Tree Fallen                                    |0.093370949125     |\n",
      "|Animal Care Services    |Officer Standby                                |0.07241548515625   |\n",
      "|Animal Care Services    |Injured Animal(Critical)                       |0.06019443241785097|\n",
      "|Trans & Cap Improvements|Herbicide - Grass in curb or street            |0.052407407        |\n",
      "+------------------------+-----------------------------------------------+-------------------+\n",
      "\n"
     ]
    }
   ],
   "source": [
    "#How do number of days late depend on department and request type?\n",
    "df.select('*').where('case_late==\"YES\"').groupBy(['department','service_request_type']).agg(mean('num_days_late')).sort(desc('avg(num_days_late)')).show(df.count(), False)"
   ]
  },
  {
   "cell_type": "code",
   "execution_count": null,
   "id": "af38f390-6f0e-4d50-882b-fc32ccdd1bac",
   "metadata": {},
   "outputs": [],
   "source": []
  }
 ],
 "metadata": {
  "kernelspec": {
   "display_name": "Python 3",
   "language": "python",
   "name": "python3"
  },
  "language_info": {
   "codemirror_mode": {
    "name": "ipython",
    "version": 3
   },
   "file_extension": ".py",
   "mimetype": "text/x-python",
   "name": "python",
   "nbconvert_exporter": "python",
   "pygments_lexer": "ipython3",
   "version": "3.8.10"
  }
 },
 "nbformat": 4,
 "nbformat_minor": 5
}
